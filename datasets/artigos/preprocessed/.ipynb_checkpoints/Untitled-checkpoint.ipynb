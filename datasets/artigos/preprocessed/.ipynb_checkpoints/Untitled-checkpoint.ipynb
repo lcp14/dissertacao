{
 "cells": [
  {
   "cell_type": "code",
   "execution_count": 5,
   "metadata": {
    "ExecuteTime": {
     "end_time": "2019-03-15T20:42:29.689880Z",
     "start_time": "2019-03-15T20:42:29.686143Z"
    }
   },
   "outputs": [],
   "source": [
    "import os"
   ]
  },
  {
   "cell_type": "code",
   "execution_count": 9,
   "metadata": {
    "ExecuteTime": {
     "end_time": "2019-03-15T20:47:08.387832Z",
     "start_time": "2019-03-15T20:47:07.207847Z"
    }
   },
   "outputs": [],
   "source": [
    "for ano in ['2013','2014','2015','2016','2017']:\n",
    "    f = open(ano+'/artigosPre.txt')\n",
    "    docs = f.readlines()\n",
    "    f.close()\n",
    "    for idx,doc in enumerate(docs):\n",
    "        if not os.path.exists('../'+ano):\n",
    "            os.mkdir('../'+ano)\n",
    "        f = open('../'+ano+'/'+ano+'_'+str(idx)+'.txt','w')\n",
    "        f.write(doc)"
   ]
  },
  {
   "cell_type": "markdown",
   "metadata": {
    "ExecuteTime": {
     "end_time": "2019-03-15T20:59:07.513182Z",
     "start_time": "2019-03-15T20:59:07.501465Z"
    }
   },
   "source": [
    "https://github.com/derekgreene/dynamic-nmf\n",
    "https://github.com/RaRe-Technologies/gensim/blob/develop/docs/notebooks/ldaseqmodel.ipynb"
   ]
  },
  {
   "cell_type": "code",
   "execution_count": null,
   "metadata": {},
   "outputs": [],
   "source": []
  }
 ],
 "metadata": {
  "kernelspec": {
   "display_name": "Python 3",
   "language": "python",
   "name": "python3"
  },
  "language_info": {
   "codemirror_mode": {
    "name": "ipython",
    "version": 3
   },
   "file_extension": ".py",
   "mimetype": "text/x-python",
   "name": "python",
   "nbconvert_exporter": "python",
   "pygments_lexer": "ipython3",
   "version": "3.6.7"
  },
  "toc": {
   "base_numbering": 1,
   "nav_menu": {},
   "number_sections": true,
   "sideBar": true,
   "skip_h1_title": false,
   "title_cell": "Table of Contents",
   "title_sidebar": "Contents",
   "toc_cell": false,
   "toc_position": {},
   "toc_section_display": true,
   "toc_window_display": false
  },
  "varInspector": {
   "cols": {
    "lenName": 16,
    "lenType": 16,
    "lenVar": 40
   },
   "kernels_config": {
    "python": {
     "delete_cmd_postfix": "",
     "delete_cmd_prefix": "del ",
     "library": "var_list.py",
     "varRefreshCmd": "print(var_dic_list())"
    },
    "r": {
     "delete_cmd_postfix": ") ",
     "delete_cmd_prefix": "rm(",
     "library": "var_list.r",
     "varRefreshCmd": "cat(var_dic_list()) "
    }
   },
   "types_to_exclude": [
    "module",
    "function",
    "builtin_function_or_method",
    "instance",
    "_Feature"
   ],
   "window_display": false
  }
 },
 "nbformat": 4,
 "nbformat_minor": 2
}
