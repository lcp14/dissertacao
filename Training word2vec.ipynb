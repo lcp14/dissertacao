{
 "cells": [
  {
   "cell_type": "markdown",
   "metadata": {},
   "source": [
    "# Criando um modelo Word Embedding\n",
    "\n",
    "Criamos um modelo word embedding para obter uma maior relação semântica das palavras. O corpus utilizado para o treino da rede neural, foram os artigos de 2008 até 2018 dos Doutores da Ciência da Computação.\n",
    "\n",
    "Foram treinados quatro modelos distintos, para realização de futuros testes. Usando o corpus como os artigos com e sem stemming, e variando os modelos também descobrir bigramas."
   ]
  },
  {
   "cell_type": "markdown",
   "metadata": {},
   "source": [
    "## Imports"
   ]
  },
  {
   "cell_type": "code",
   "execution_count": 1,
   "metadata": {
    "ExecuteTime": {
     "end_time": "2019-03-29T06:10:04.209781Z",
     "start_time": "2019-03-29T06:10:03.722205Z"
    }
   },
   "outputs": [],
   "source": [
    "from gensim.models import Word2Vec\n",
    "from gensim.models import Phrases\n",
    "import pandas as pd"
   ]
  },
  {
   "cell_type": "markdown",
   "metadata": {},
   "source": [
    "# Criação do corpus"
   ]
  },
  {
   "cell_type": "code",
   "execution_count": 2,
   "metadata": {
    "ExecuteTime": {
     "end_time": "2019-03-29T06:10:04.370639Z",
     "start_time": "2019-03-29T06:10:04.211264Z"
    }
   },
   "outputs": [
    {
     "data": {
      "text/plain": [
       "992975"
      ]
     },
     "execution_count": 2,
     "metadata": {},
     "output_type": "execute_result"
    }
   ],
   "source": [
    "timeslice = []\n",
    "timeslice_stem = []\n",
    "corpus = ''\n",
    "corpus_stem = ''\n",
    "for ano in range(2008,2019):\n",
    "    df = pd.read_csv('dataset_without_stem/artigosPre_'+str(ano)+'.csv', sep=\"|\")\n",
    "    df_stem = pd.read_csv('dataset/artigosPre_'+str(ano)+'.csv', sep=\"|\")\n",
    "    artigos = df['titulo'].values\n",
    "    artigos_stem = df_stem['titulo'].values\n",
    "    size = len(artigos)\n",
    "    size_stem = len(artigos_stem)\n",
    "    artigos = \"\".join(artigos+'\\n')\n",
    "    artigos_stem = \"\".join(artigos_stem+'\\n')\n",
    "    timeslice.append(size)\n",
    "    timeslice_stem.append(size_stem)\n",
    "    corpus += artigos\n",
    "    corpus_stem += artigos_stem\n",
    "open('new_corpus.txt','w').write(corpus)\n",
    "open('new_corpus_stem.txt','w').write(corpus_stem)"
   ]
  },
  {
   "cell_type": "code",
   "execution_count": 3,
   "metadata": {
    "ExecuteTime": {
     "end_time": "2019-03-29T06:10:04.387683Z",
     "start_time": "2019-03-29T06:10:04.371997Z"
    }
   },
   "outputs": [],
   "source": [
    "corpus = [i.split() for i in corpus.split('\\n')]"
   ]
  },
  {
   "cell_type": "code",
   "execution_count": 4,
   "metadata": {
    "ExecuteTime": {
     "end_time": "2019-03-29T06:10:04.533050Z",
     "start_time": "2019-03-29T06:10:04.390074Z"
    }
   },
   "outputs": [],
   "source": [
    "corpus_stem = [i.split() for i in corpus_stem.split('\\n')]"
   ]
  },
  {
   "cell_type": "markdown",
   "metadata": {},
   "source": [
    "# Treinando o modelo W2V"
   ]
  },
  {
   "cell_type": "markdown",
   "metadata": {},
   "source": [
    "## Modelo padrão (sem bigramas)"
   ]
  },
  {
   "cell_type": "code",
   "execution_count": 5,
   "metadata": {
    "ExecuteTime": {
     "end_time": "2019-03-29T06:10:06.088479Z",
     "start_time": "2019-03-29T06:10:04.535991Z"
    }
   },
   "outputs": [
    {
     "data": {
      "text/plain": [
       "(1271865, 1414400)"
      ]
     },
     "execution_count": 5,
     "metadata": {},
     "output_type": "execute_result"
    }
   ],
   "source": [
    "model_default = Word2Vec(corpus, size=150, window=10, min_count=2, workers=4)\n",
    "model_default.train(corpus,total_examples=len(corpus),epochs=10)"
   ]
  },
  {
   "cell_type": "code",
   "execution_count": 6,
   "metadata": {
    "ExecuteTime": {
     "end_time": "2019-03-29T06:10:07.391387Z",
     "start_time": "2019-03-29T06:10:06.089866Z"
    }
   },
   "outputs": [
    {
     "data": {
      "text/plain": [
       "(1241475, 1414450)"
      ]
     },
     "execution_count": 6,
     "metadata": {},
     "output_type": "execute_result"
    }
   ],
   "source": [
    "model_default_stem = Word2Vec(corpus_stem, size=150, window=10, min_count=2, workers=4)\n",
    "model_default_stem.train(corpus_stem,total_examples=len(corpus_stem),epochs=10)"
   ]
  },
  {
   "cell_type": "code",
   "execution_count": 7,
   "metadata": {
    "ExecuteTime": {
     "end_time": "2019-03-29T06:10:07.519913Z",
     "start_time": "2019-03-29T06:10:07.392923Z"
    }
   },
   "outputs": [],
   "source": [
    "model_default.save(\"models/model_default.model\")\n",
    "model_default_stem.save('models/model_default_stem.model')\n",
    "#model_default = Word2Vec.load(\"model_default.model\")"
   ]
  },
  {
   "cell_type": "code",
   "execution_count": 8,
   "metadata": {
    "ExecuteTime": {
     "end_time": "2019-03-29T06:10:08.889978Z",
     "start_time": "2019-03-29T06:10:07.520998Z"
    }
   },
   "outputs": [],
   "source": [
    "model_default.wv.save_word2vec_format('wordvectors/l2v_default.vec')\n",
    "model_default_stem.wv.save_word2vec_format('wordvectors/l2v_default_stem.vec')"
   ]
  },
  {
   "cell_type": "markdown",
   "metadata": {},
   "source": [
    "### Testes"
   ]
  },
  {
   "cell_type": "code",
   "execution_count": 9,
   "metadata": {
    "ExecuteTime": {
     "end_time": "2019-03-29T06:10:08.932814Z",
     "start_time": "2019-03-29T06:10:08.891579Z"
    }
   },
   "outputs": [
    {
     "data": {
      "text/plain": [
       "[('segmentation', 0.8910067677497864),\n",
       " ('hue', 0.8887063264846802),\n",
       " ('images', 0.8824281096458435),\n",
       " ('foresting', 0.8818085193634033),\n",
       " ('descriptors', 0.8817914128303528),\n",
       " ('pattern', 0.8708274364471436)]"
      ]
     },
     "execution_count": 9,
     "metadata": {},
     "output_type": "execute_result"
    }
   ],
   "source": [
    "w1 = 'image'\n",
    "model_default.wv.most_similar (positive=w1,topn=6)"
   ]
  },
  {
   "cell_type": "code",
   "execution_count": 10,
   "metadata": {
    "ExecuteTime": {
     "end_time": "2019-03-29T06:10:09.103973Z",
     "start_time": "2019-03-29T06:10:08.939349Z"
    }
   },
   "outputs": [
    {
     "data": {
      "text/plain": [
       "[('wireless', 0.7993072271347046),\n",
       " ('node', 0.7601819038391113),\n",
       " ('actuat', 0.7105311155319214),\n",
       " ('sink', 0.7096534967422485),\n",
       " ('exploit', 0.6863954067230225),\n",
       " ('radio', 0.6852746605873108)]"
      ]
     },
     "execution_count": 10,
     "metadata": {},
     "output_type": "execute_result"
    }
   ],
   "source": [
    "w1 = 'network'\n",
    "model_default_stem.wv.most_similar (positive=w1,topn=6)"
   ]
  },
  {
   "cell_type": "markdown",
   "metadata": {},
   "source": [
    "## Modelo Bigrama"
   ]
  },
  {
   "cell_type": "code",
   "execution_count": 11,
   "metadata": {
    "ExecuteTime": {
     "end_time": "2019-03-29T06:10:09.604076Z",
     "start_time": "2019-03-29T06:10:09.114736Z"
    }
   },
   "outputs": [],
   "source": [
    "bigram = Phrases(corpus)\n",
    "bigram_stem = Phrases(corpus_stem)"
   ]
  },
  {
   "cell_type": "code",
   "execution_count": 12,
   "metadata": {
    "ExecuteTime": {
     "end_time": "2019-03-29T06:10:17.950017Z",
     "start_time": "2019-03-29T06:10:09.605361Z"
    }
   },
   "outputs": [
    {
     "data": {
      "text/plain": [
       "(1191576, 1313890)"
      ]
     },
     "execution_count": 12,
     "metadata": {},
     "output_type": "execute_result"
    }
   ],
   "source": [
    "model_bigram = Word2Vec(bigram[corpus], size=150, window=10, min_count=2, workers=4)\n",
    "model_bigram.train(bigram[corpus],total_examples=len(corpus),epochs=10)"
   ]
  },
  {
   "cell_type": "code",
   "execution_count": 13,
   "metadata": {
    "ExecuteTime": {
     "end_time": "2019-03-29T06:10:24.266815Z",
     "start_time": "2019-03-29T06:10:17.951732Z"
    }
   },
   "outputs": [
    {
     "data": {
      "text/plain": [
       "(1220367, 1388350)"
      ]
     },
     "execution_count": 13,
     "metadata": {},
     "output_type": "execute_result"
    }
   ],
   "source": [
    "model_bigram_stem = Word2Vec(bigram[corpus_stem], size=150, window=10, min_count=2, workers=4)\n",
    "model_bigram_stem.train(bigram[corpus_stem],total_examples=len(corpus_stem),epochs=10)"
   ]
  },
  {
   "cell_type": "code",
   "execution_count": 14,
   "metadata": {
    "ExecuteTime": {
     "end_time": "2019-03-29T06:10:24.401498Z",
     "start_time": "2019-03-29T06:10:24.268725Z"
    }
   },
   "outputs": [],
   "source": [
    "model_bigram.save(\"models/model_bigram.model\")\n",
    "model_bigram_stem.save('models/model_bigram_stem.model')\n",
    "#model_bigram = Word2Vec.load(\"model_bigram.model\")"
   ]
  },
  {
   "cell_type": "code",
   "execution_count": 15,
   "metadata": {
    "ExecuteTime": {
     "end_time": "2019-03-29T06:10:25.554055Z",
     "start_time": "2019-03-29T06:10:24.402663Z"
    }
   },
   "outputs": [],
   "source": [
    "model_bigram.wv.save_word2vec_format('wordvectors/l2v_bigram.vec')\n",
    "model_bigram_stem.wv.save_word2vec_format('wordvectors/l2v_bigram_stem.vec')"
   ]
  },
  {
   "cell_type": "markdown",
   "metadata": {},
   "source": [
    "### Testes"
   ]
  },
  {
   "cell_type": "code",
   "execution_count": 16,
   "metadata": {
    "ExecuteTime": {
     "end_time": "2019-03-29T06:10:25.572294Z",
     "start_time": "2019-03-29T06:10:25.555278Z"
    }
   },
   "outputs": [
    {
     "data": {
      "text/plain": [
       "[('manipulation', 0.992890477180481),\n",
       " ('analyzer', 0.9913017153739929),\n",
       " ('comparing', 0.9901167154312134),\n",
       " ('computer_aided', 0.9896448254585266),\n",
       " ('categorizing', 0.9882591962814331),\n",
       " ('vision', 0.9870148301124573)]"
      ]
     },
     "execution_count": 16,
     "metadata": {},
     "output_type": "execute_result"
    }
   ],
   "source": [
    "w1 = 'data_mining'\n",
    "model_bigram.wv.most_similar (positive=w1,topn=6)"
   ]
  },
  {
   "cell_type": "code",
   "execution_count": null,
   "metadata": {},
   "outputs": [],
   "source": []
  }
 ],
 "metadata": {
  "kernelspec": {
   "display_name": "Python 3",
   "language": "python",
   "name": "python3"
  },
  "language_info": {
   "codemirror_mode": {
    "name": "ipython",
    "version": 3
   },
   "file_extension": ".py",
   "mimetype": "text/x-python",
   "name": "python",
   "nbconvert_exporter": "python",
   "pygments_lexer": "ipython3",
   "version": "3.7.1"
  },
  "toc": {
   "base_numbering": 1,
   "nav_menu": {},
   "number_sections": true,
   "sideBar": true,
   "skip_h1_title": false,
   "title_cell": "Table of Contents",
   "title_sidebar": "Contents",
   "toc_cell": false,
   "toc_position": {},
   "toc_section_display": true,
   "toc_window_display": false
  },
  "varInspector": {
   "cols": {
    "lenName": 16,
    "lenType": 16,
    "lenVar": 40
   },
   "kernels_config": {
    "python": {
     "delete_cmd_postfix": "",
     "delete_cmd_prefix": "del ",
     "library": "var_list.py",
     "varRefreshCmd": "print(var_dic_list())"
    },
    "r": {
     "delete_cmd_postfix": ") ",
     "delete_cmd_prefix": "rm(",
     "library": "var_list.r",
     "varRefreshCmd": "cat(var_dic_list()) "
    }
   },
   "types_to_exclude": [
    "module",
    "function",
    "builtin_function_or_method",
    "instance",
    "_Feature"
   ],
   "window_display": false
  }
 },
 "nbformat": 4,
 "nbformat_minor": 2
}
