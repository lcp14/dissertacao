{
 "cells": [
  {
   "cell_type": "code",
   "execution_count": 81,
   "metadata": {},
   "outputs": [
    {
     "name": "stdout",
     "output_type": "stream",
     "text": [
      "\r\n",
      "*** Please tell me who you are.\r\n",
      "\r\n",
      "Run\r\n",
      "\r\n",
      "  git config --global user.email \"you@example.com\"\r\n",
      "  git config --global user.name \"Your Name\"\r\n",
      "\r\n",
      "to set your account's default identity.\r\n",
      "Omit --global to set the identity only in this repository.\r\n",
      "\r\n",
      "fatal: unable to auto-detect email address (got 'leandror@duff.(none)')\r\n"
     ]
    }
   ],
   "source": []
  },
  {
   "cell_type": "markdown",
   "metadata": {},
   "source": [
    "# Tópicos de 2017 utilizando TF-IDF / NMF - SToC"
   ]
  },
  {
   "cell_type": "markdown",
   "metadata": {},
   "source": [
    "Esse notebook é a execução da modelagem de tópicos em cima dos titulos de artigos dos doutores da computação. Os artigos já estão pré-processados, separados em duas classes (No-spacy e com Spacy).\n",
    "O algoritmo escolhe um número X final de tópicos, então geramos 3x  mais tópicos utilizando o NMF e então reduzimos utilizando o SToC para o número X. \n",
    "Calcular NPMI dos niveis de hierarquia do SToC e executar a similaridade com as áreas do ACM."
   ]
  },
  {
   "cell_type": "markdown",
   "metadata": {},
   "source": [
    "# Imports"
   ]
  },
  {
   "cell_type": "code",
   "execution_count": 2,
   "metadata": {
    "ExecuteTime": {
     "end_time": "2019-03-11T18:18:18.771562Z",
     "start_time": "2019-03-11T18:18:00.348370Z"
    }
   },
   "outputs": [
    {
     "name": "stderr",
     "output_type": "stream",
     "text": [
      "/home/leandro/anaconda3/lib/python3.7/site-packages/fuzzywuzzy/fuzz.py:11: UserWarning: Using slow pure-python SequenceMatcher. Install python-Levenshtein to remove this warning\n",
      "  warnings.warn('Using slow pure-python SequenceMatcher. Install python-Levenshtein to remove this warning')\n"
     ]
    }
   ],
   "source": [
    "import pandas as pd\n",
    "import numpy as np\n",
    "import unicodedata\n",
    "import statistics\n",
    "import operator\n",
    "\n",
    "from fuzzywuzzy import fuzz \n",
    "from sklearn.feature_extraction.text import CountVectorizer, TfidfVectorizer\n",
    "\n",
    "\n",
    "from sklearn.decomposition import NMF\n",
    "\n",
    "from SToC import *\n",
    "\n",
    "import os\n",
    "\n",
    "from IPython.display import HTML, display\n",
    "from tabulate import tabulate\n",
    "from metrics import Evaluation as Eval\n",
    "\n",
    "from sklearn.feature_extraction.text import CountVectorizer\n",
    "import matplotlib.pyplot as plt"
   ]
  },
  {
   "cell_type": "markdown",
   "metadata": {},
   "source": [
    "## Opções de arranque"
   ]
  },
  {
   "cell_type": "code",
   "execution_count": 3,
   "metadata": {
    "ExecuteTime": {
     "end_time": "2019-03-11T18:18:18.782804Z",
     "start_time": "2019-03-11T18:18:18.780748Z"
    }
   },
   "outputs": [],
   "source": [
    "pd.set_option('display.max_colwidth',500)"
   ]
  },
  {
   "cell_type": "markdown",
   "metadata": {},
   "source": [
    "# Funções"
   ]
  },
  {
   "cell_type": "markdown",
   "metadata": {},
   "source": [
    "## Funções SToC"
   ]
  },
  {
   "cell_type": "code",
   "execution_count": 4,
   "metadata": {
    "ExecuteTime": {
     "end_time": "2019-03-11T18:18:19.190604Z",
     "start_time": "2019-03-11T18:18:18.788985Z"
    },
    "code_folding": [
     0,
     39,
     55
    ]
   },
   "outputs": [],
   "source": [
    "def print_join(iterates, model, W, n_topics, features, n_words):\n",
    "\tmore = []\n",
    "\ttops = []\n",
    "\n",
    "\tmore2 = []\n",
    "\n",
    "\tfor i in range(len(iterates)):\n",
    "\t\ta = iterates[i][1]\n",
    "\t\tb = iterates[i][2]\n",
    "\n",
    "\t\t#mudar\n",
    "\n",
    "\t\tif ((a<n_topics)&(b>=n_topics)):\n",
    "\t\t\taux = (model[a] + more[b-n_topics])/2\n",
    "\t\t\t#aux = more[b-n_topics]\n",
    "\t\t\taux2 = (W[a] + more2[b-n_topics])/2\n",
    "#\n",
    "\t\tif ((a>=n_topics)&(b<n_topics)):\n",
    "\t\t\taux = (more[a-n_topics] + model[b])/2\n",
    "\t\t\t#aux = model[b]\n",
    "\t\t\taux2 = (more2[a-n_topics] + W[b])/2\n",
    "\n",
    "\t\tif ((a>=n_topics)&(b>=n_topics)):\n",
    "\t\t\t#print a\n",
    "\t\t\t#print b\n",
    "\t\t\t#print len(more)\n",
    "\t\t\taux = (more[a-n_topics] + more[b-n_topics])/2\n",
    "\t\t\t#aux = more[b-n_topics]# + more[b-n_topics])/2\n",
    "\t\t\taux2 = (more2[a-n_topics] + more2[b-n_topics])/2\n",
    "\t\t\n",
    "\t\tif ((a < n_topics) & (b < n_topics)):\n",
    "\t\t\taux = (model[a] + model[b])/2\n",
    "\t\t\t#aux = model[b]\n",
    "\t\t\taux2 = (W[a] + W[b])/2\n",
    "\n",
    "\t\t\t\n",
    "\t\t#print aux\n",
    "\t\tmore.append(aux)\n",
    "\t\tmore2.append(aux2)\n",
    "def print_estats(t2):\n",
    "\n",
    "\tvalores = []\n",
    "\tfor (i,j,k,l) in t2:\n",
    "\t\tvalores.append(l)\n",
    "\n",
    "\tex =  pd.Series(valores)\n",
    "\tprint (\"(Max+min)/2: \", (ex.max() + ex.min())/2)\n",
    "\tprint (\"Media: \", ex.mean())\n",
    "\tprint( \"Max: \", ex.max())\n",
    "\tprint (\"Min: \", ex.min())\n",
    "\tprint (\"Variancia: \", ex.var())\n",
    "\tprint (\"Desvio Padrao: \", ex.std())\n",
    "\tprint (\"Desvio Absoluto: \", ex.mad())\n",
    "\treturn ex.mean()\n",
    "\n",
    "def see_join(iterates, W, H, limiar,n_final):\n",
    "\n",
    "    W = W.transpose()\n",
    "    H = H.transpose()\n",
    "\n",
    "    W_dict = {}\n",
    "    H_dict = {}\n",
    "\n",
    "    for i in range(len(W)):\n",
    "        W_dict[i] = W[i]\n",
    "    \n",
    "    for i in range(len(H)):\n",
    "        H_dict[i] = H[i]\n",
    "\n",
    "\t#iterates[i][0] numero do novo topicos\n",
    "\t#iterates[i][1] uniao tópico 1\n",
    "\t#iterates[i][2] uniao topico 2\n",
    "\t#iterates[i][3] valor (limiar)\n",
    "\n",
    " \n",
    "\n",
    "\t#iterates = sorted(iterates, key=lambda x: x[3], reverse=True)\n",
    "\n",
    "\t#print iterates\n",
    "\t#exit()\n",
    "    n_topics = len(W)\n",
    "    aux_final = len(W)\n",
    "    print(aux_final)\n",
    "    for idx,i in enumerate(range(len(iterates))):\n",
    "        new = iterates[i][0]\n",
    "        a = iterates[i][1]\n",
    "        b = iterates[i][2]\n",
    "        valor = iterates[i][3]\n",
    "        \n",
    "        #if valor < limiar:\n",
    "        #\tbreak\n",
    "\n",
    "        if aux_final == n_final:\n",
    "            break\n",
    "\n",
    "        W_dict[new] = (W_dict[a] + W_dict[b])/2\n",
    "        del(W_dict[a])\n",
    "        del(W_dict[b])\n",
    "\n",
    "        H_dict[new] = (H_dict[a] + H_dict[b])/2\n",
    "        del(H_dict[a])\n",
    "        del(H_dict[b])\n",
    "\n",
    "\n",
    "\n",
    "        aux_final -=1\n",
    "\n",
    "    W_new = []\n",
    "\n",
    "    H_new = []\n",
    "\n",
    "        #print (W_dict.keys())\n",
    "        #exit()\n",
    "\n",
    "        #print sorted(W_dict.keys())\n",
    "\n",
    "    for i in sorted(W_dict.keys()):\n",
    "        W_new.append(W_dict[i])\n",
    "\n",
    "    for i in sorted(H_dict.keys()):\n",
    "        H_new.append(H_dict[i])\n",
    "\n",
    "    W_ret = np.zeros((len(W_new),len(W_new[0])))\n",
    "    H_ret = np.zeros((len(H_new),len(H_new[0])))\n",
    "\n",
    "    for i in range(len(W_new)):\n",
    "        for j in range(len(W_new[0])):\n",
    "            W_ret[i][j] = W_new[i][j]\n",
    "\n",
    "    for i in range(len(H_new)):\n",
    "        for j in range(len(H_new[0])):\n",
    "            H_ret[i][j] = H_new[i][j]\n",
    "\n",
    "    return W_ret,H_ret\n"
   ]
  },
  {
   "cell_type": "code",
   "execution_count": 40,
   "metadata": {
    "ExecuteTime": {
     "end_time": "2019-03-11T18:26:29.700267Z",
     "start_time": "2019-03-11T18:26:29.688628Z"
    }
   },
   "outputs": [],
   "source": [
    "import pickle\n",
    "with open('../../datasets/'+ 'acm_hierachy' + '.pkl', 'rb') as f:\n",
    "    acm = pickle.load(f)\n",
    "with open('../../datasets/'+ 'acm_areas' + '.pkl', 'rb') as f:\n",
    "    areas = pickle.load(f)\n",
    "with open('../../datasets/'+ 'acm_areas_id' + '.pkl', 'rb') as f:\n",
    "    areas_id = pickle.load(f)\n",
    "with open('../../datasets/'+ 'acm_areas_parents' + '.pkl', 'rb') as f:\n",
    "    areas_parents = pickle.load(f)"
   ]
  },
  {
   "cell_type": "markdown",
   "metadata": {},
   "source": [
    "## Função de visualização"
   ]
  },
  {
   "cell_type": "code",
   "execution_count": 6,
   "metadata": {
    "ExecuteTime": {
     "end_time": "2019-03-11T18:18:20.742414Z",
     "start_time": "2019-03-11T18:18:20.733211Z"
    }
   },
   "outputs": [],
   "source": [
    "def print_top_words_display(H, feature_names, n_top_words):\n",
    "    table_output = [['Topic','topwords']]\n",
    "    topics = []\n",
    "    for topic_idx, topic in enumerate(H):\n",
    "        top_index = [\"Topic # %d\" % topic_idx]\n",
    "        top_words = [\" \".join([feature_names[i]\n",
    "                             for i in topic.argsort()[:-n_top_words - 1:-1]])]\n",
    "        values = [value for value in np.sort(topic)[:-n_top_words - 1:-1]]\n",
    "        table_output.append(top_index + top_words)\n",
    "        topics.append(\" \".join([feature_names[i]\n",
    "                             for i in topic.argsort()[:-n_top_words - 1:-1]]))\n",
    "        \n",
    "    df_out = pd.DataFrame(table_output, index=None)\n",
    "    display(HTML(tabulate(table_output, tablefmt='html')))\n",
    "    return topics,df_out"
   ]
  },
  {
   "cell_type": "markdown",
   "metadata": {},
   "source": [
    "## TF-IDF"
   ]
  },
  {
   "cell_type": "code",
   "execution_count": 7,
   "metadata": {
    "ExecuteTime": {
     "end_time": "2019-03-11T18:18:21.229881Z",
     "start_time": "2019-03-11T18:18:20.750325Z"
    }
   },
   "outputs": [],
   "source": [
    "def execute_tfidf(dataset,max_df=1,min_df=1,ngram=(0,2),stop_words=[]):\n",
    "    tfidf_vectorizer = TfidfVectorizer(max_df=max_df, min_df=min_df,ngram_range=ngram,stop_words=stop_words)\n",
    "    tfidf = tfidf_vectorizer.fit_transform(dataset)\n",
    "    tfidf_feature_names = tfidf_vectorizer.get_feature_names()\n",
    "    return tfidf,tfidf_feature_names"
   ]
  },
  {
   "cell_type": "markdown",
   "metadata": {},
   "source": [
    "## NMF"
   ]
  },
  {
   "cell_type": "code",
   "execution_count": 8,
   "metadata": {
    "ExecuteTime": {
     "end_time": "2019-03-11T18:18:21.850500Z",
     "start_time": "2019-03-11T18:18:21.240337Z"
    }
   },
   "outputs": [],
   "source": [
    "def execute_nmf(tfidf,n_topics = 10,n_components = 5):\n",
    "    n_topics = n_topics\n",
    "    n_components = n_components\n",
    "    nmf = NMF(n_components=n_components,max_iter=400)\n",
    "    W = nmf.fit_transform(tfidf)\n",
    "    H = nmf.components_.transpose() \n",
    "    return nmf,W,H"
   ]
  },
  {
   "cell_type": "markdown",
   "metadata": {},
   "source": [
    "## SToC"
   ]
  },
  {
   "cell_type": "code",
   "execution_count": 9,
   "metadata": {
    "ExecuteTime": {
     "end_time": "2019-03-11T18:18:22.382466Z",
     "start_time": "2019-03-11T18:18:21.863068Z"
    }
   },
   "outputs": [],
   "source": [
    "def execute_stoc(W,H,n_final,n_components):\n",
    "    n_words = H.shape[0]\n",
    "\n",
    "    topXtop_norm = getIrredutibleMatrix(W,H,n_components)\n",
    "    assign, t2 = joinTopics(n_components, topXtop_norm)\n",
    "\n",
    "\n",
    "    tops = print_join(t2, H.transpose(), W, n_components, None, n_words)\n",
    "\n",
    "    limiar = print_estats(t2)\n",
    "\n",
    "    W_new, H_new = see_join(t2, W, H, limiar,n_final)\n",
    "    return W_new,H_new"
   ]
  },
  {
   "cell_type": "markdown",
   "metadata": {},
   "source": [
    "# Carregar artigos do ano de 2017"
   ]
  },
  {
   "cell_type": "code",
   "execution_count": 10,
   "metadata": {
    "ExecuteTime": {
     "end_time": "2019-03-11T18:18:23.621294Z",
     "start_time": "2019-03-11T18:18:22.393873Z"
    }
   },
   "outputs": [],
   "source": [
    "ano = str(2017)\n",
    "df_artigos = pd.read_csv('../../datasets/artigos/preprocessed/without_spacy/artigos2017_pre',sep=\"|\",index_col=0)\n",
    "#df_artigos = pd.read_csv('datasets/trabalhosPre.txt',sep=\"|\",index_col=0)\n",
    "artigos = df_artigos['titulo'].values"
   ]
  },
  {
   "cell_type": "code",
   "execution_count": 11,
   "metadata": {
    "ExecuteTime": {
     "end_time": "2019-03-11T18:18:23.652772Z",
     "start_time": "2019-03-11T18:18:23.644568Z"
    }
   },
   "outputs": [
    {
     "name": "stdout",
     "output_type": "stream",
     "text": [
      "Densidade: 7.071221532091097\n"
     ]
    }
   ],
   "source": [
    "valor = 0\n",
    "for i in df_artigos['titulo']:\n",
    "    valor +=len(set(i.split()))\n",
    "print(\"Densidade: {0}\".format(valor/len(df_artigos)))"
   ]
  },
  {
   "cell_type": "markdown",
   "metadata": {},
   "source": [
    "# Remoção das palavras de acordo com sua frequência"
   ]
  },
  {
   "cell_type": "code",
   "execution_count": 12,
   "metadata": {
    "ExecuteTime": {
     "end_time": "2019-03-11T18:18:24.475516Z",
     "start_time": "2019-03-11T18:18:23.668757Z"
    }
   },
   "outputs": [],
   "source": [
    "vectorizer = CountVectorizer()\n",
    "X = vectorizer.fit_transform(artigos)\n",
    "sum_words = X.sum(axis=0)\n",
    "words_freq = [(word, sum_words[0, idx]) for word, idx in vectorizer.vocabulary_.items()]\n",
    "words_freq =sorted(words_freq, key = lambda x: x[1], reverse=True)\n",
    "#print(words_freq)\n",
    "indices = np.arange(len(words_freq))"
   ]
  },
  {
   "cell_type": "markdown",
   "metadata": {},
   "source": [
    "## Histograma das frequências das palavras"
   ]
  },
  {
   "cell_type": "code",
   "execution_count": 13,
   "metadata": {
    "ExecuteTime": {
     "end_time": "2019-03-11T18:19:13.523613Z",
     "start_time": "2019-03-11T18:18:24.496817Z"
    }
   },
   "outputs": [
    {
     "data": {
      "image/png": "[encoded data removed]",
      "text/plain": [
       "<Figure size 2160x1080 with 1 Axes>"
      ]
     },
     "metadata": {
      "needs_background": "light"
     },
     "output_type": "display_data"
    }
   ],
   "source": [
    "%matplotlib inline\n",
    "\n",
    "word = []\n",
    "frequency = []\n",
    "for i in range(len(words_freq)):\n",
    "    word.append(words_freq[i][0])\n",
    "    frequency.append(words_freq[i][1])\n",
    "plt.figure(figsize=(30, 15))\n",
    "plt.bar(indices,frequency,width =1, color='r')\n",
    "plt.xticks(indices, word, rotation='vertical')\n",
    "plt.tight_layout()\n",
    "plt.show()\n"
   ]
  },
  {
   "cell_type": "markdown",
   "metadata": {},
   "source": [
    "## Remoção das palavras com frequência igual ou menor que 10 e maior ou igual a 100"
   ]
  },
  {
   "cell_type": "code",
   "execution_count": 33,
   "metadata": {
    "ExecuteTime": {
     "end_time": "2019-02-14T18:20:41.793405Z",
     "start_time": "2019-02-14T18:20:41.612752Z"
    }
   },
   "outputs": [],
   "source": [
    "# new_stop_words = []\n",
    "# word = []\n",
    "# frequency = []\n",
    "# indices = 0\n",
    "# for words in words_freq:\n",
    "#     if words[1] <= -1 or words[1] >= 0:\n",
    "#         new_stop_words.append(words[0])\n",
    "#         word.append(words[0])\n",
    "#     elif words[0].isdigit():\n",
    "#         new_stop_words.append(words[0])\n",
    "#         word.append(words[0])\n",
    "#     else:\n",
    "#         frequency.append(words[1])\n",
    "#         indices +=1\n",
    "# plt.figure(figsize=(30, 15))\n",
    "# plt.bar(range(indices),frequency,width =1, color='r')\n",
    "# #plt.xticks(range(indices), word, rotation='vertical')\n",
    "# plt.tight_layout()\n",
    "# plt.show()\n",
    "# new_stop_words.append('datum')\n",
    "    "
   ]
  },
  {
   "cell_type": "code",
   "execution_count": 35,
   "metadata": {
    "ExecuteTime": {
     "end_time": "2019-02-12T16:54:12.882964Z",
     "start_time": "2019-02-12T16:54:12.879968Z"
    }
   },
   "outputs": [
    {
     "name": "stdout",
     "output_type": "stream",
     "text": [
      "3989\n"
     ]
    }
   ],
   "source": [
    "print(len(words_freq))\n",
    "#print(len(new_stop_words))"
   ]
  },
  {
   "cell_type": "code",
   "execution_count": 14,
   "metadata": {
    "ExecuteTime": {
     "end_time": "2019-03-11T18:19:13.672730Z",
     "start_time": "2019-03-11T18:19:13.548686Z"
    }
   },
   "outputs": [],
   "source": [
    "f = open('../acm_words.txt','r')\n",
    "acm_words = f.read().replace('\\n',' ').split()"
   ]
  },
  {
   "cell_type": "markdown",
   "metadata": {},
   "source": [
    "## (teste) Retirar todas palavras que não pertencem ao grupo de palavras das áreas da ACM"
   ]
  },
  {
   "cell_type": "code",
   "execution_count": 15,
   "metadata": {
    "ExecuteTime": {
     "end_time": "2019-03-11T18:19:14.298632Z",
     "start_time": "2019-03-11T18:19:13.696376Z"
    }
   },
   "outputs": [],
   "source": [
    "stop_words_without_acm_words = list(set(word) - set(acm_words))"
   ]
  },
  {
   "cell_type": "code",
   "execution_count": null,
   "metadata": {
    "ExecuteTime": {
     "end_time": "2019-02-20T16:59:22.469869Z",
     "start_time": "2019-02-20T16:59:22.463000Z"
    },
    "scrolled": true
   },
   "outputs": [],
   "source": [
    "len(set(word).intersection(acm_words))"
   ]
  },
  {
   "cell_type": "code",
   "execution_count": null,
   "metadata": {
    "ExecuteTime": {
     "end_time": "2019-02-20T16:57:33.406570Z",
     "start_time": "2019-02-20T16:57:33.401372Z"
    }
   },
   "outputs": [],
   "source": [
    "len(word)"
   ]
  },
  {
   "cell_type": "code",
   "execution_count": null,
   "metadata": {
    "ExecuteTime": {
     "end_time": "2019-02-20T16:58:34.107939Z",
     "start_time": "2019-02-20T16:58:34.101920Z"
    },
    "scrolled": true
   },
   "outputs": [],
   "source": [
    "len(acm_words)"
   ]
  },
  {
   "cell_type": "code",
   "execution_count": null,
   "metadata": {
    "ExecuteTime": {
     "end_time": "2019-02-20T16:57:43.558413Z",
     "start_time": "2019-02-20T16:57:43.553090Z"
    }
   },
   "outputs": [],
   "source": [
    "len(stop_words_without_acm_words)"
   ]
  },
  {
   "cell_type": "markdown",
   "metadata": {},
   "source": [
    "# Parametros do TF-IDF e SToC"
   ]
  },
  {
   "cell_type": "code",
   "execution_count": 16,
   "metadata": {
    "ExecuteTime": {
     "end_time": "2019-03-11T18:19:14.772954Z",
     "start_time": "2019-03-11T18:19:14.326496Z"
    },
    "code_folding": []
   },
   "outputs": [],
   "source": [
    "# TF-IDF\n",
    "max_df = 0.85\n",
    "min_df = 0.01\n",
    "ngram= (1,1)\n",
    "#NMF\n",
    "n_components = 60\n",
    "n_topics = 10\n",
    "# STOC\n",
    "#n_final = 30"
   ]
  },
  {
   "cell_type": "markdown",
   "metadata": {},
   "source": [
    "# Gerar tópicos e hierarquia do SToC"
   ]
  },
  {
   "cell_type": "markdown",
   "metadata": {},
   "source": [
    "## Executando TF-IDF"
   ]
  },
  {
   "cell_type": "code",
   "execution_count": 17,
   "metadata": {
    "ExecuteTime": {
     "end_time": "2019-03-11T18:19:15.334703Z",
     "start_time": "2019-03-11T18:19:14.801218Z"
    }
   },
   "outputs": [],
   "source": [
    "tfidf,tfidf_feature_names = execute_tfidf(artigos,max_df=max_df,min_df=min_df,ngram=ngram,stop_words = stop_words_without_acm_words)"
   ]
  },
  {
   "cell_type": "markdown",
   "metadata": {},
   "source": [
    "## Executando NMF"
   ]
  },
  {
   "cell_type": "code",
   "execution_count": 18,
   "metadata": {
    "ExecuteTime": {
     "end_time": "2019-03-11T18:19:18.900305Z",
     "start_time": "2019-03-11T18:19:15.361814Z"
    }
   },
   "outputs": [],
   "source": [
    "nmf,W,H = execute_nmf(n_components=n_components,n_topics=n_topics,tfidf=tfidf)"
   ]
  },
  {
   "cell_type": "markdown",
   "metadata": {},
   "source": [
    "# Visualização dos Tópicos gerados pelo NMF"
   ]
  },
  {
   "cell_type": "code",
   "execution_count": 19,
   "metadata": {
    "ExecuteTime": {
     "end_time": "2019-03-11T18:19:18.952051Z",
     "start_time": "2019-03-11T18:19:18.930598Z"
    },
    "scrolled": true
   },
   "outputs": [
    {
     "data": {
      "text/html": [
       "<table>\n",
       "<tbody>\n",
       "<tr><td>Topic     </td><td>topwords                                                                                                </td></tr>\n",
       "<tr><td>Topic # 0 </td><td>base selection cloud product networks heuristic identification engineering environment estimation       </td></tr>\n",
       "<tr><td>Topic # 1 </td><td>use neural prediction computer education mining search computing sensor environment                     </td></tr>\n",
       "<tr><td>Topic # 2 </td><td>analysis computer computing quality sensor software feature networks environment base                   </td></tr>\n",
       "<tr><td>Topic # 3 </td><td>model computing mining prediction wireless search solution network health graph                         </td></tr>\n",
       "<tr><td>Topic # 4 </td><td>network neural service sensor education computing search feature prediction engineering                 </td></tr>\n",
       "<tr><td>Topic # 5 </td><td>system wireless literature product algorithms engineering neural test framework environment             </td></tr>\n",
       "<tr><td>Topic # 6 </td><td>algorithm selection cloud computer networks search product machine service game                         </td></tr>\n",
       "<tr><td>Topic # 7 </td><td>software product literature service level engineering search networks assessment environment            </td></tr>\n",
       "<tr><td>Topic # 8 </td><td>time prediction service wireless cloud quality mapping process learning multi                           </td></tr>\n",
       "<tr><td>Topic # 9 </td><td>evaluation algorithms quality wireless computing service engineering feature software game              </td></tr>\n",
       "<tr><td>Topic # 10</td><td>data mining service cloud heuristic literature sensor feature identification health                     </td></tr>\n",
       "<tr><td>Topic # 11</td><td>application computer level product computing quality sensor service literature algorithms               </td></tr>\n",
       "<tr><td>Topic # 12</td><td>detection computer product level literature networks feature algorithms quality sensor                  </td></tr>\n",
       "<tr><td>Topic # 13</td><td>design algorithms heuristic literature sensor feature solution network structure energy                 </td></tr>\n",
       "<tr><td>Topic # 14</td><td>classification neural mining level assessment computer selection computing prediction learning          </td></tr>\n",
       "<tr><td>Topic # 15</td><td>optimization algorithms selection wireless search assessment product programming engineering level      </td></tr>\n",
       "<tr><td>Topic # 16</td><td>management service cloud prediction networks search research application feature engineering            </td></tr>\n",
       "<tr><td>Topic # 17</td><td>systems literature neural engineering wireless selection search algorithms solution cloud               </td></tr>\n",
       "<tr><td>Topic # 18</td><td>networks neural wireless prediction heuristic computer cloud software research game                     </td></tr>\n",
       "<tr><td>Topic # 19</td><td>performance computer search prediction education networks feature cloud sensor modeling                 </td></tr>\n",
       "<tr><td>Topic # 20</td><td>image quality literature feature computing search neural sensor computer machine                        </td></tr>\n",
       "<tr><td>Topic # 21</td><td>control level prediction literature product cloud sensor quality network simulation                     </td></tr>\n",
       "<tr><td>Topic # 22</td><td>learning education selection computer sensor assessment machine environment software classification     </td></tr>\n",
       "<tr><td>Topic # 23</td><td>process mining literature engineering selection programming sensor recognition generation analysis      </td></tr>\n",
       "<tr><td>Topic # 24</td><td>framework selection computing quality search wireless education networks computer software              </td></tr>\n",
       "<tr><td>Topic # 25</td><td>cloud computing level literature service prediction assessment networks generation estimation           </td></tr>\n",
       "<tr><td>Topic # 26</td><td>graph neural solution game application power structure identification process learning                  </td></tr>\n",
       "<tr><td>Topic # 27</td><td>impact education selection mining product networks quality network performance design                   </td></tr>\n",
       "<tr><td>Topic # 28</td><td>support selection education computer quality neural search wireless cloud machine                       </td></tr>\n",
       "<tr><td>Topic # 29</td><td>modeling level mining assessment service sensor cloud estimation framework performance                  </td></tr>\n",
       "<tr><td>Topic # 30</td><td>information networks selection health solution technology architecture systems use control              </td></tr>\n",
       "<tr><td>Topic # 31</td><td>identification product level selection heuristic prediction neural research analysis evaluation         </td></tr>\n",
       "<tr><td>Topic # 32</td><td>estimation quality selection neural search modeling software power data control                         </td></tr>\n",
       "<tr><td>Topic # 33</td><td>structure prediction data architecture network activity modeling detection analysis learning            </td></tr>\n",
       "<tr><td>Topic # 34</td><td>assessment quality computer wireless education cloud algorithms feature analysis graph                  </td></tr>\n",
       "<tr><td>Topic # 35</td><td>architecture computer product computing service quality algorithms wireless search multi                </td></tr>\n",
       "<tr><td>Topic # 36</td><td>test heuristic assessment computing machine software application impact network system                  </td></tr>\n",
       "<tr><td>Topic # 37</td><td>development education mining computer selection assessment level service cloud software                 </td></tr>\n",
       "<tr><td>Topic # 38</td><td>energy prediction assessment engineering networks cloud research mapping power software                 </td></tr>\n",
       "<tr><td>Topic # 39</td><td>feature selection prediction product quality wireless engineering network estimation image              </td></tr>\n",
       "<tr><td>Topic # 40</td><td>recognition level neural prediction quality cloud mapping learning multi wireless                       </td></tr>\n",
       "<tr><td>Topic # 41</td><td>search heuristic product computer wireless engineering environment estimation evaluation feature        </td></tr>\n",
       "<tr><td>Topic # 42</td><td>simulation computing education assessment wireless software mapping modeling network performance        </td></tr>\n",
       "<tr><td>Topic # 43</td><td>environment product assessment cloud research design performance analysis framework estimation          </td></tr>\n",
       "<tr><td>Topic # 44</td><td>power level wireless heuristic service networks energy estimation performance use                       </td></tr>\n",
       "<tr><td>Topic # 45</td><td>technology product literature service assessment information analysis use application generation        </td></tr>\n",
       "<tr><td>Topic # 46</td><td>research literature education mining computing quality service wireless selection networks              </td></tr>\n",
       "<tr><td>Topic # 47</td><td>programming computer prediction heuristic assessment environment estimation evaluation feature framework</td></tr>\n",
       "<tr><td>Topic # 48</td><td>mapping computer mining product search solution wireless recognition energy generation                  </td></tr>\n",
       "<tr><td>Topic # 49</td><td>activity neural mining research feature quality structure location system base                          </td></tr>\n",
       "<tr><td>Topic # 50</td><td>machine prediction heuristic cloud solution sensor learning support detection analysis                  </td></tr>\n",
       "<tr><td>Topic # 51</td><td>sensor wireless product networks prediction selection quality research network use                      </td></tr>\n",
       "<tr><td>Topic # 52</td><td>location level service quality feature engineering networks game impact base                            </td></tr>\n",
       "<tr><td>Topic # 53</td><td>health literature level selection mining assessment service sensor networks analysis                    </td></tr>\n",
       "<tr><td>Topic # 54</td><td>engineering education computer computing search quality feature software management base                </td></tr>\n",
       "<tr><td>Topic # 55</td><td>solution service level heuristic quality computer wireless computing assessment environment             </td></tr>\n",
       "<tr><td>Topic # 56</td><td>game literature education quality neural algorithms feature programming mapping location                </td></tr>\n",
       "<tr><td>Topic # 57</td><td>multi selection heuristic assessment engineering algorithms software recognition location architecture  </td></tr>\n",
       "<tr><td>Topic # 58</td><td>algorithms mining prediction education service selection quality analysis engineering environment       </td></tr>\n",
       "<tr><td>Topic # 59</td><td>generation heuristic solution wireless networks algorithms network mapping energy classification        </td></tr>\n",
       "</tbody>\n",
       "</table>"
      ],
      "text/plain": [
       "<IPython.core.display.HTML object>"
      ]
     },
     "metadata": {},
     "output_type": "display_data"
    }
   ],
   "source": [
    "topics_nmf,a = print_top_words_display(H.transpose(), tfidf_feature_names,n_topics)"
   ]
  },
  {
   "cell_type": "code",
   "execution_count": 20,
   "metadata": {
    "ExecuteTime": {
     "end_time": "2019-03-11T18:19:19.380507Z",
     "start_time": "2019-03-11T18:19:18.990343Z"
    }
   },
   "outputs": [],
   "source": [
    "import pickle\n",
    "with open('topicos.pickle', 'wb') as handle:\n",
    "    pickle.dump(W, handle, protocol=pickle.HIGHEST_PROTOCOL)"
   ]
  },
  {
   "cell_type": "markdown",
   "metadata": {},
   "source": [
    "# Áreas da ACM similares com as palavras do tópico\n",
    "\n",
    "- Além de mostrar as áreas, tambem mostra a hierarquia da área similar ao tópico"
   ]
  },
  {
   "cell_type": "code",
   "execution_count": 30,
   "metadata": {
    "ExecuteTime": {
     "end_time": "2019-03-11T18:22:25.162403Z",
     "start_time": "2019-03-11T18:21:03.681996Z"
    },
    "scrolled": true
   },
   "outputs": [
    {
     "name": "stdout",
     "output_type": "stream",
     "text": [
      "base selection cloud product networks heuristic identification engineering environment estimation\n",
      "---------------------------------------\n",
      "\n",
      "\n",
      "networks\n",
      "use neural prediction computer education mining search computing sensor environment\n",
      "---------------------------------------\n",
      "\n",
      "\n",
      "social and professional topics\n",
      "analysis computer computing quality sensor software feature networks environment base\n",
      "---------------------------------------\n",
      "\n",
      "\n",
      "software and its engineering\n",
      "model computing mining prediction wireless search solution network health graph\n",
      "---------------------------------------\n",
      "\n",
      "\n",
      "networks\n",
      "network neural service sensor education computing search feature prediction engineering\n",
      "---------------------------------------\n",
      "\n",
      "\n",
      "networks\n",
      "system wireless literature product algorithms engineering neural test framework environment\n",
      "---------------------------------------\n",
      "\n",
      "\n",
      "computing methodologies\n",
      "algorithm selection cloud computer networks search product machine service game\n",
      "---------------------------------------\n",
      "\n",
      "\n",
      "networks\n",
      "software product literature service level engineering search networks assessment environment\n",
      "---------------------------------------\n",
      "\n",
      "\n",
      "software and its engineering\n",
      "time prediction service wireless cloud quality mapping process learning multi\n",
      "---------------------------------------\n",
      "\n",
      "\n",
      "computing methodologies\n",
      "evaluation algorithms quality wireless computing service engineering feature software game\n",
      "---------------------------------------\n",
      "\n",
      "\n",
      "software and its engineering\n",
      "data mining service cloud heuristic literature sensor feature identification health\n",
      "---------------------------------------\n",
      "\n",
      "\n",
      "information systems\n",
      "application computer level product computing quality sensor service literature algorithms\n",
      "---------------------------------------\n",
      "\n",
      "\n",
      "computing methodologies\n",
      "detection computer product level literature networks feature algorithms quality sensor\n",
      "---------------------------------------\n",
      "\n",
      "\n",
      "networks\n",
      "design algorithms heuristic literature sensor feature solution network structure energy\n",
      "---------------------------------------\n",
      "\n",
      "\n",
      "networks\n",
      "classification neural mining level assessment computer selection computing prediction learning\n",
      "---------------------------------------\n",
      "\n",
      "\n",
      "computing methodologies\n",
      "optimization algorithms selection wireless search assessment product programming engineering level\n",
      "---------------------------------------\n",
      "\n",
      "\n",
      "theory of computation\n",
      "management service cloud prediction networks search research application feature engineering\n",
      "---------------------------------------\n",
      "\n",
      "\n",
      "information systems\n",
      "systems literature neural engineering wireless selection search algorithms solution cloud\n",
      "---------------------------------------\n",
      "\n",
      "\n",
      "information systems\n",
      "networks neural wireless prediction heuristic computer cloud software research game\n",
      "---------------------------------------\n",
      "\n",
      "\n",
      "software and its engineering\n",
      "performance computer search prediction education networks feature cloud sensor modeling\n",
      "---------------------------------------\n",
      "\n",
      "\n",
      "networks\n",
      "image quality literature feature computing search neural sensor computer machine\n",
      "---------------------------------------\n",
      "\n",
      "\n",
      "computing methodologies\n",
      "control level prediction literature product cloud sensor quality network simulation\n",
      "---------------------------------------\n",
      "\n",
      "\n",
      "networks\n",
      "learning education selection computer sensor assessment machine environment software classification\n",
      "---------------------------------------\n",
      "\n",
      "\n",
      "software and its engineering\n",
      "process mining literature engineering selection programming sensor recognition generation analysis\n",
      "---------------------------------------\n",
      "\n",
      "\n",
      "software and its engineering\n",
      "framework selection computing quality search wireless education networks computer software\n",
      "---------------------------------------\n",
      "\n",
      "\n",
      "software and its engineering\n",
      "cloud computing level literature service prediction assessment networks generation estimation\n",
      "---------------------------------------\n",
      "\n",
      "\n",
      "networks\n",
      "graph neural solution game application power structure identification process learning\n",
      "---------------------------------------\n",
      "\n",
      "\n",
      "computing methodologies\n",
      "impact education selection mining product networks quality network performance design\n",
      "---------------------------------------\n",
      "\n",
      "\n",
      "networks\n",
      "support selection education computer quality neural search wireless cloud machine\n",
      "---------------------------------------\n",
      "\n",
      "\n",
      "information systems\n",
      "modeling level mining assessment service sensor cloud estimation framework performance\n",
      "---------------------------------------\n",
      "\n",
      "\n",
      "hardware\n",
      "information networks selection health solution technology architecture systems use control\n",
      "---------------------------------------\n",
      "\n",
      "\n",
      "networks\n",
      "identification product level selection heuristic prediction neural research analysis evaluation\n",
      "---------------------------------------\n",
      "\n",
      "\n",
      "hardware\n",
      "estimation quality selection neural search modeling software power data control\n",
      "---------------------------------------\n",
      "\n",
      "\n",
      "information systems\n",
      "structure prediction data architecture network activity modeling detection analysis learning\n",
      "---------------------------------------\n",
      "\n",
      "\n",
      "computing methodologies\n",
      "assessment quality computer wireless education cloud algorithms feature analysis graph\n",
      "---------------------------------------\n",
      "\n",
      "\n",
      "computing methodologies\n",
      "architecture computer product computing service quality algorithms wireless search multi\n",
      "---------------------------------------\n",
      "\n",
      "\n",
      "computing methodologies\n",
      "test heuristic assessment computing machine software application impact network system\n",
      "---------------------------------------\n",
      "\n",
      "\n",
      "software and its engineering\n",
      "development education mining computer selection assessment level service cloud software\n",
      "---------------------------------------\n",
      "\n",
      "\n",
      "software and its engineering\n",
      "energy prediction assessment engineering networks cloud research mapping power software\n",
      "---------------------------------------\n",
      "\n",
      "\n",
      "software and its engineering\n",
      "feature selection prediction product quality wireless engineering network estimation image\n",
      "---------------------------------------\n",
      "\n",
      "\n",
      "networks\n",
      "recognition level neural prediction quality cloud mapping learning multi wireless\n",
      "---------------------------------------\n",
      "\n",
      "\n",
      "computing methodologies\n",
      "search heuristic product computer wireless engineering environment estimation evaluation feature\n",
      "---------------------------------------\n",
      "\n",
      "\n",
      "information systems\n",
      "simulation computing education assessment wireless software mapping modeling network performance\n",
      "---------------------------------------\n",
      "\n",
      "\n",
      "software and its engineering\n",
      "environment product assessment cloud research design performance analysis framework estimation\n",
      "---------------------------------------\n",
      "\n",
      "\n",
      "hardware\n",
      "power level wireless heuristic service networks energy estimation performance use\n",
      "---------------------------------------\n",
      "\n",
      "\n",
      "networks\n",
      "technology product literature service assessment information analysis use application generation\n",
      "---------------------------------------\n",
      "\n",
      "\n",
      "information systems\n",
      "research literature education mining computing quality service wireless selection networks\n",
      "---------------------------------------\n",
      "\n",
      "\n",
      "networks\n",
      "programming computer prediction heuristic assessment environment estimation evaluation feature framework\n",
      "---------------------------------------\n",
      "\n",
      "\n",
      "computing methodologies\n",
      "mapping computer mining product search solution wireless recognition energy generation\n",
      "---------------------------------------\n",
      "\n",
      "\n",
      "information systems\n",
      "activity neural mining research feature quality structure location system base\n",
      "---------------------------------------\n",
      "\n",
      "\n",
      "information systems\n",
      "machine prediction heuristic cloud solution sensor learning support detection analysis\n",
      "---------------------------------------\n",
      "\n",
      "\n",
      "computing methodologies\n",
      "sensor wireless product networks prediction selection quality research network use\n",
      "---------------------------------------\n",
      "\n",
      "\n",
      "networks\n",
      "location level service quality feature engineering networks game impact base\n",
      "---------------------------------------\n",
      "\n",
      "\n",
      "networks\n",
      "health literature level selection mining assessment service sensor networks analysis\n",
      "---------------------------------------\n",
      "\n",
      "\n",
      "networks\n",
      "engineering education computer computing search quality feature software management base\n",
      "---------------------------------------\n",
      "\n",
      "\n",
      "software and its engineering\n",
      "solution service level heuristic quality computer wireless computing assessment environment\n"
     ]
    },
    {
     "name": "stdout",
     "output_type": "stream",
     "text": [
      "---------------------------------------\n",
      "\n",
      "\n",
      "social and professional topics\n",
      "game literature education quality neural algorithms feature programming mapping location\n",
      "---------------------------------------\n",
      "\n",
      "\n",
      "theory of computation\n",
      "multi selection heuristic assessment engineering algorithms software recognition location architecture\n",
      "---------------------------------------\n",
      "\n",
      "\n",
      "software and its engineering\n",
      "algorithms mining prediction education service selection quality analysis engineering environment\n",
      "---------------------------------------\n",
      "\n",
      "\n",
      "computing methodologies\n",
      "generation heuristic solution wireless networks algorithms network mapping energy classification\n",
      "---------------------------------------\n",
      "\n",
      "\n",
      "networks\n"
     ]
    }
   ],
   "source": [
    "table = []\n",
    "for idx,topic in enumerate(topics_nmf):\n",
    "    similar_area = topic_acm_area(topic,areas_id,areas_parents)\n",
    "    print(\"---------------------------------------\")\n",
    "    print(\"\\n\")\n",
    "    if similar_area.items():\n",
    "        maior = 0\n",
    "        for value in similar_area:\n",
    "#             if not len(areas_parents[value]) == 0:\n",
    "            if similar_area[value] > maior:\n",
    "                maior = similar_area[value]\n",
    "        for i in getKeysByValue(similar_area,maior):\n",
    "            if len(areas_parents[i]) == 0:\n",
    "                result = areas_id[i]\n",
    "            \n",
    "        print(result)\n",
    "        table.append([idx,topic,result])"
   ]
  },
  {
   "cell_type": "code",
   "execution_count": null,
   "metadata": {
    "ExecuteTime": {
     "end_time": "2019-03-11T18:19:19.920806Z",
     "start_time": "2019-03-11T18:18:32.238Z"
    }
   },
   "outputs": [],
   "source": [
    "maior = 0\n",
    "for value in similar_area:\n",
    "    if areas_parents[value]:\n",
    "        if similar_area[value] > maior:\n",
    "            maior = similar_area[value]\n",
    "[areas_id[i] for i in getKeysByValue(similar_area,maior)]"
   ]
  },
  {
   "cell_type": "code",
   "execution_count": null,
   "metadata": {
    "ExecuteTime": {
     "end_time": "2019-03-11T18:19:19.922586Z",
     "start_time": "2019-03-11T18:18:34.128Z"
    },
    "scrolled": true
   },
   "outputs": [],
   "source": [
    "pd.DataFrame(table,columns=['id','topwords','description'])"
   ]
  },
  {
   "cell_type": "code",
   "execution_count": 37,
   "metadata": {
    "ExecuteTime": {
     "end_time": "2019-03-12T13:14:37.752839Z",
     "start_time": "2019-03-12T13:14:37.746923Z"
    }
   },
   "outputs": [],
   "source": [
    "aux = []\n",
    "for i in (set([row[2] for row in table])):\n",
    "    aux2 = []\n",
    "    for t in table:\n",
    "        if t[2] == i:\n",
    "            aux2.append(t[0])\n",
    "    aux.append([i,aux2])"
   ]
  },
  {
   "cell_type": "code",
   "execution_count": 38,
   "metadata": {
    "ExecuteTime": {
     "end_time": "2019-03-12T13:14:38.924152Z",
     "start_time": "2019-03-12T13:14:38.898531Z"
    }
   },
   "outputs": [
    {
     "name": "stdout",
     "output_type": "stream",
     "text": [
      "machine learning\n",
      "distributed computing methodologies\n"
     ]
    }
   ],
   "source": [
    "idx = getKeysByValue(areas_id,'computing methodologies')\n",
    "y = []\n",
    "for i in areas_parents:\n",
    "    value = areas_parents[i]\n",
    "    if idx[0] in value:\n",
    "        if len(value) == 1: # Hieirarquias\n",
    "            y.append(i)\n",
    "m = 0\n",
    "for area in [areas_id[j] for j in y]:\n",
    "    a = fuzz.partial_token_set_ratio(area,topic)\n",
    "    #print(a)\n",
    "    if a > m:\n",
    "        m = a\n",
    "\n",
    "    if a >= 44:\n",
    "         print(area)"
   ]
  },
  {
   "cell_type": "code",
   "execution_count": 33,
   "metadata": {
    "ExecuteTime": {
     "end_time": "2019-03-11T18:23:16.679492Z",
     "start_time": "2019-03-11T18:23:16.675200Z"
    }
   },
   "outputs": [],
   "source": [
    "with open('document_dict.pickle', 'wb') as handle:\n",
    "    pickle.dump(document_dict, handle, protocol=pickle.HIGHEST_PROTOCOL)"
   ]
  },
  {
   "cell_type": "code",
   "execution_count": 39,
   "metadata": {
    "ExecuteTime": {
     "end_time": "2019-03-12T13:14:43.410030Z",
     "start_time": "2019-03-12T13:14:43.265914Z"
    }
   },
   "outputs": [
    {
     "name": "stdout",
     "output_type": "stream",
     "text": [
      "[5, 11, 22, 26, 35, 40, 43, 50, 56, 58]\n",
      "[1, 10, 17, 20, 28, 32, 33, 42, 44, 48, 49]\n",
      "[0, 3, 4, 6, 12, 16, 19, 21, 24, 25, 27, 30, 38, 47, 51, 52, 55, 57]\n",
      "[15, 54]\n",
      "[2, 7, 8, 9, 18, 23, 29, 36, 37, 39, 41, 46, 53]\n",
      "[34, 45]\n",
      "[13, 14, 31, 59]\n"
     ]
    }
   ],
   "source": [
    "document_dict  = {}\n",
    "for a in aux:\n",
    "    print(a[1])\n",
    "    for i in a[1]:\n",
    "        vec = []\n",
    "        for idx,value in enumerate(W.transpose()[i]):\n",
    "            if value > 0:\n",
    "                vec.append(idx)\n",
    "        document_dict[a[0]] = vec"
   ]
  },
  {
   "cell_type": "code",
   "execution_count": 41,
   "metadata": {
    "ExecuteTime": {
     "end_time": "2019-03-12T13:20:53.638094Z",
     "start_time": "2019-03-12T13:20:52.980059Z"
    },
    "scrolled": true
   },
   "outputs": [],
   "source": [
    "table_new = []\n",
    "for a in aux:\n",
    "    #print(a[0])\n",
    "    for t in  a[1]:\n",
    "        to = table[t][1]\n",
    "        y = []\n",
    "        idx = getKeysByValue(areas_id,table[t][2])\n",
    "        for i in areas_parents:\n",
    "            value = areas_parents[i]\n",
    "            if idx[0] in value:\n",
    "                if len(value) == 1: # Hieirarquias\n",
    "                    y.append(i)\n",
    "        m = 0\n",
    "        for area in [areas_id[j] for j in y]:\n",
    "            #print(area)\n",
    "            a = fuzz.partial_token_set_ratio(area,to)\n",
    "            #print(a)\n",
    "            if a > m:\n",
    "                m = a\n",
    "                s = area\n",
    "        table_new.append([s,W.transpose()[table[t][0]],table[t][0]])"
   ]
  },
  {
   "cell_type": "code",
   "execution_count": 55,
   "metadata": {
    "ExecuteTime": {
     "end_time": "2019-03-12T13:52:20.945473Z",
     "start_time": "2019-03-12T13:52:20.934929Z"
    }
   },
   "outputs": [],
   "source": [
    "aux = []\n",
    "for i in (set([row[0] for row in table_new])):\n",
    "    aux2 = []\n",
    "    cont = 0\n",
    "    for idx,t in enumerate(table_new):\n",
    "        if t[0] == i:\n",
    "            cont+=1\n",
    "            vec1 = t[1]\n",
    "            if idx > 0:\n",
    "                vec1 += t[1]\n",
    "    vec1 = vec1/cont\n",
    "    aux.append([i,vec1])"
   ]
  },
  {
   "cell_type": "code",
   "execution_count": 56,
   "metadata": {
    "ExecuteTime": {
     "end_time": "2019-03-12T13:52:23.563471Z",
     "start_time": "2019-03-12T13:52:23.551735Z"
    }
   },
   "outputs": [
    {
     "name": "stdout",
     "output_type": "stream",
     "text": [
      "[['very large scale integration design', array([0., 0., 0., ..., 0., 0., 0.])], ['network algorithms', array([0., 0., 0., ..., 0., 0., 0.])], ['electronic design automation', array([0.      , 0.      , 0.      , ..., 0.      , 0.      , 0.000196])], ['network protocols', array([0.       , 0.       , 0.       , ..., 0.       , 0.       ,\n",
      "       0.0109494])], ['computing   technology policy', array([0., 0., 0., ..., 0., 0., 0.])], ['design and analysis of algorithms', array([0., 0., 0., ..., 0., 0., 0.])], ['user characteristics', array([0., 0., 0., ..., 0., 0., 0.])], ['computer graphics', array([0., 0., 0., ..., 0., 0., 0.])], ['software creation and management', array([0., 0., 0., ..., 0., 0., 0.])], ['network performance evaluation', array([0.       , 1.4673808, 0.       , ..., 0.       , 0.       ,\n",
      "       0.       ])], ['modeling and simulation', array([0.        , 0.        , 0.        , ..., 0.        , 0.        ,\n",
      "       0.00363064])], ['information storage systems', array([0., 0., 0., ..., 0., 0., 0.])], ['network services', array([0., 0., 0., ..., 0., 0., 0.])], ['robustness', array([0.        , 0.        , 0.        , ..., 0.        , 0.        ,\n",
      "       1.50809141])], ['software organization and properties', array([1.09654002e-07, 0.00000000e+00, 0.00000000e+00, ...,\n",
      "       0.00000000e+00, 0.00000000e+00, 5.92172140e-03])], ['network properties', array([0.        , 0.49545122, 0.        , ..., 0.        , 0.        ,\n",
      "       0.00392629])], ['information retrieval', array([0., 0., 0., ..., 0., 0., 0.])], ['data management systems', array([0.00000000e+00, 0.00000000e+00, 0.00000000e+00, ...,\n",
      "       6.10937207e-08, 0.00000000e+00, 0.00000000e+00])], ['machine learning', array([0., 0., 0., ..., 0., 0., 0.])], ['power and energy', array([0., 0., 0., ..., 0., 0., 0.])], ['network architectures', array([0.0000000e+00, 0.0000000e+00, 0.0000000e+00, ..., 0.0000000e+00,\n",
      "       0.0000000e+00, 9.9766821e-05])], ['parallel computing methodologies', array([0., 0., 0., ..., 0., 0., 0.])], ['network types', array([1.82243555, 0.        , 0.        , ..., 0.        , 0.        ,\n",
      "       0.        ])]]\n"
     ]
    }
   ],
   "source": [
    "print(aux)"
   ]
  },
  {
   "cell_type": "markdown",
   "metadata": {},
   "source": [
    "## Métricas TFIDF Coherence e avaliando tópicos utilizando o NPMI "
   ]
  },
  {
   "cell_type": "code",
   "execution_count": 49,
   "metadata": {
    "ExecuteTime": {
     "end_time": "2019-02-20T13:29:22.016687Z",
     "start_time": "2019-02-20T13:29:22.005314Z"
    },
    "code_folding": [],
    "scrolled": true
   },
   "outputs": [],
   "source": [
    "def tf_idf_print(tfidf_coherence):\n",
    "    print(\"TF-IDF Coherence Score\")\n",
    "    print(\"----------------------\")\n",
    "    print(\"Média: {}\".format(statistics.mean(tfidf_coherence)))\n",
    "    print(\"Desvio Padrão: {}\".format(statistics.stdev(tfidf_coherence)))\n",
    "    print(\"Variância: {}\".format(statistics.variance(tfidf_coherence)))\n",
    "    print(\"Min: {}\".format(min(tfidf_coherence)))\n",
    "    print(\"Max: {}\".format(max(tfidf_coherence)))\n",
    "    print(\"----------------------\")\n",
    "    print(\"\")\n",
    "def pmi_npmi_print(pmi,npmi):\n",
    "    print(\"PMI e NPMI Score\")\n",
    "    print(\"----------------------\")\n",
    "    print(\"Média: PMI -> {}, NPMI -> {}\".format(statistics.mean(pmi),statistics.mean(npmi)))\n",
    "    print(\"Desvio Padrão: PMI -> {}, NPMI -> {}\".format(statistics.stdev(pmi),statistics.stdev(npmi)))\n",
    "    print(\"Variância: PMI -> {}, NPMI -> {}\".format(statistics.variance(pmi),statistics.variance(npmi)))\n",
    "    print(\"Min: PMI -> {}, NPMI -> {}\".format(min(pmi),min(npmi)))\n",
    "    print(\"Max: PMI -> {}, NPMI -> {}\".format(max(pmi),max(npmi)))\n",
    "    print(\"----------------------\")"
   ]
  },
  {
   "cell_type": "code",
   "execution_count": null,
   "metadata": {
    "ExecuteTime": {
     "end_time": "2019-02-20T13:21:36.756658Z",
     "start_time": "2019-02-20T13:21:30.923636Z"
    }
   },
   "outputs": [],
   "source": [
    "n_terms, words, word_frequency, term_docs = Eval.count(artigos)\n",
    "tfidf_coherence = Eval.tfidf_coherence(topics_nmf, tfidf, tfidf_feature_names)\n",
    "pmi, npmi = Eval.pmi(topics_nmf, word_frequency, term_docs,len(artigos), 10)"
   ]
  },
  {
   "cell_type": "code",
   "execution_count": null,
   "metadata": {
    "ExecuteTime": {
     "end_time": "2019-02-20T13:29:22.633251Z",
     "start_time": "2019-02-20T13:29:22.619843Z"
    },
    "scrolled": true
   },
   "outputs": [],
   "source": [
    "tf_idf_print(tfidf_coherence)\n",
    "pmi_npmi_print(pmi,npmi)"
   ]
  },
  {
   "cell_type": "markdown",
   "metadata": {},
   "source": [
    "## Executando SToC mostrando cada iteraçao do algoritmo"
   ]
  },
  {
   "cell_type": "code",
   "execution_count": null,
   "metadata": {
    "ExecuteTime": {
     "end_time": "2019-02-20T17:34:43.977337Z",
     "start_time": "2019-02-20T17:34:43.962132Z"
    }
   },
   "outputs": [],
   "source": [
    "print(H.shape,H_new.transpose().shape)"
   ]
  },
  {
   "cell_type": "markdown",
   "metadata": {},
   "source": [
    "### Funções para achar similaridade entre os tópicos e as áreas da ACM"
   ]
  },
  {
   "cell_type": "code",
   "execution_count": 22,
   "metadata": {
    "ExecuteTime": {
     "end_time": "2019-03-11T18:20:42.871611Z",
     "start_time": "2019-03-11T18:20:42.866185Z"
    },
    "code_folding": []
   },
   "outputs": [],
   "source": [
    "def area_parents(area,areas_id,areas_parents,similar_area):\n",
    "    li_id = getKeysByValue(areas_id,area)\n",
    "    parents = [areas_parents[i] for i in li_id]\n",
    "    for li in li_id:\n",
    "        if li not in similar_area.keys():\n",
    "            similar_area[li] = 1\n",
    "        else:\n",
    "            similar_area[li] += 1\n",
    "    for parent in parents:\n",
    "        for p in parent:\n",
    "            if p not in similar_area.keys():\n",
    "                similar_area[p] =1\n",
    "            else:\n",
    "                similar_area[p] +=1\n",
    "                \n",
    "        #print(area+\"-->\"+\"-->\".join([areas_id[i] for i in parent][::-1]))\n",
    "    return similar_area"
   ]
  },
  {
   "cell_type": "code",
   "execution_count": 23,
   "metadata": {
    "ExecuteTime": {
     "end_time": "2019-03-11T18:20:43.296874Z",
     "start_time": "2019-03-11T18:20:43.033062Z"
    },
    "code_folding": [
     0
    ]
   },
   "outputs": [],
   "source": [
    "def getKeysByValue(dictOfElements, valueToFind):\n",
    "    listOfKeys = list()\n",
    "    listOfItems = dictOfElements.items()\n",
    "    for item  in listOfItems:\n",
    "        if item[1] == valueToFind:\n",
    "            listOfKeys.append(item[0])\n",
    "    return  listOfKeys"
   ]
  },
  {
   "cell_type": "code",
   "execution_count": 24,
   "metadata": {
    "ExecuteTime": {
     "end_time": "2019-03-11T18:20:43.900198Z",
     "start_time": "2019-03-11T18:20:43.332334Z"
    },
    "code_folding": []
   },
   "outputs": [],
   "source": [
    "def topic_acm_area(topic,areas_id,areas_parents):\n",
    "    similar_area = {}\n",
    "    print(topic)\n",
    "    m = 0\n",
    "    for area in list(set(areas_id.values())):\n",
    "        a = fuzz.partial_token_set_ratio(area,topic)\n",
    "        if a > m:\n",
    "            m = a\n",
    "\n",
    "        if a >= 70:\n",
    "             area_parents(area,areas_id,areas_parents,similar_area)\n",
    "    return similar_area"
   ]
  },
  {
   "cell_type": "markdown",
   "metadata": {},
   "source": [
    "### Executando SToC, cada execução diminuindo cinco tópicos"
   ]
  },
  {
   "cell_type": "code",
   "execution_count": 46,
   "metadata": {
    "ExecuteTime": {
     "end_time": "2019-02-11T11:48:43.818698Z",
     "start_time": "2019-02-11T11:37:46.564836Z"
    },
    "scrolled": true
   },
   "outputs": [
    {
     "name": "stdout",
     "output_type": "stream",
     "text": [
      "('NumTopics: ', 1)\n",
      "(Max+min)/2:  51.55853912958803\n",
      "Media:  58.97745202204613\n",
      "Max:  101.25689156435882\n",
      "Min:  1.8601866948172303\n",
      "Variancia:  798.2330369168096\n",
      "Desvio Padrao:  28.253018191280194\n",
      "Desvio Absoluto:  24.245044834642208\n",
      "60\n"
     ]
    },
    {
     "name": "stderr",
     "output_type": "stream",
     "text": [
      "/home/leandror/Dissertação/dissertacao/testes/nmf_stoc/SToC.py:77: RuntimeWarning: invalid value encountered in double_scalars\n",
      "  minConn = (1 - restartProbability) * 1/(n_topics-1)\n",
      "/home/leandror/Dissertação/dissertacao/testes/nmf_stoc/SToC.py:107: RuntimeWarning: invalid value encountered in double_scalars\n",
      "  minConn = (1 - restartProbability) * 1/(k-1)\n",
      "/home/leandror/Dissertação/dissertacao/testes/nmf_stoc/SToC.py:482: RuntimeWarning: invalid value encountered in double_scalars\n",
      "  minProbability = leavingProbability * 1/(meanNumLinks)\n"
     ]
    },
    {
     "data": {
      "text/html": [
       "<table>\n",
       "<tbody>\n",
       "<tr><td>Topic     </td><td>topwords                                                                                               </td></tr>\n",
       "<tr><td>Topic # 0 </td><td>base selection product generation networks heuristic wireless engineering environment estimation       </td></tr>\n",
       "<tr><td>Topic # 1 </td><td>use neural research prediction mining education computer literature generation search                  </td></tr>\n",
       "<tr><td>Topic # 2 </td><td>analysis health computer solution research feature software networks environment sensor                </td></tr>\n",
       "<tr><td>Topic # 3 </td><td>model mining prediction wireless engineering generation search level computing network                 </td></tr>\n",
       "<tr><td>Topic # 4 </td><td>network neural service sensor search feature computer environment estimation evaluation                </td></tr>\n",
       "<tr><td>Topic # 5 </td><td>system health literature wireless engineering solution product algorithms neural test                  </td></tr>\n",
       "<tr><td>Topic # 6 </td><td>algorithm selection computer search networks product machine game recognition structure                </td></tr>\n",
       "<tr><td>Topic # 7 </td><td>time solution service prediction wireless game activity support assessment multi                       </td></tr>\n",
       "<tr><td>Topic # 8 </td><td>evaluation algorithms wireless service engineering game technology feature computing software          </td></tr>\n",
       "<tr><td>Topic # 9 </td><td>data mining service literature heuristic health sensor feature environment estimation                  </td></tr>\n",
       "<tr><td>Topic # 10</td><td>application computer product solution sensor service algorithms classification test environment        </td></tr>\n",
       "<tr><td>Topic # 11</td><td>detection computer product literature networks feature algorithms level sensor network                 </td></tr>\n",
       "<tr><td>Topic # 12</td><td>design research literature algorithms heuristic generation feature level sensor network                </td></tr>\n",
       "<tr><td>Topic # 13</td><td>classification neural mining research generation level assessment selection prediction system          </td></tr>\n",
       "<tr><td>Topic # 14</td><td>optimization algorithms selection wireless search engineering product programming generation level     </td></tr>\n",
       "<tr><td>Topic # 15</td><td>management service research networks prediction search technology assessment support generation        </td></tr>\n",
       "<tr><td>Topic # 16</td><td>systems engineering literature solution neural wireless health selection search algorithms             </td></tr>\n",
       "<tr><td>Topic # 17</td><td>performance computer search education prediction networks feature sensor algorithms management         </td></tr>\n",
       "<tr><td>Topic # 18</td><td>image feature search literature neural sensor level computer identification machine                    </td></tr>\n",
       "<tr><td>Topic # 19</td><td>control literature prediction product solution health level sensor network estimation                  </td></tr>\n",
       "<tr><td>Topic # 20</td><td>learning education computer selection sensor machine environment health algorithms classification      </td></tr>\n",
       "<tr><td>Topic # 21</td><td>process literature mining engineering selection solution research service programming recognition      </td></tr>\n",
       "<tr><td>Topic # 22</td><td>framework selection search education wireless generation networks computing activity quality           </td></tr>\n",
       "<tr><td>Topic # 23</td><td>graph solution neural game structure learning power detection model algorithm                          </td></tr>\n",
       "<tr><td>Topic # 24</td><td>impact education selection mining product assessment networks technology quality network               </td></tr>\n",
       "<tr><td>Topic # 25</td><td>support health selection education computer search neural machine software wireless                    </td></tr>\n",
       "<tr><td>Topic # 26</td><td>estimation selection neural search generation quality software architecture application data           </td></tr>\n",
       "<tr><td>Topic # 27</td><td>modeling mining solution sensor assessment software support structure performance estimation           </td></tr>\n",
       "<tr><td>Topic # 28</td><td>structure prediction activity architecture data network analysis detection systems design              </td></tr>\n",
       "<tr><td>Topic # 29</td><td>test heuristic generation machine assessment computing software application programming impact         </td></tr>\n",
       "<tr><td>Topic # 30</td><td>architecture health computer product service algorithms search wireless structure multi                </td></tr>\n",
       "<tr><td>Topic # 31</td><td>energy prediction generation networks engineering technology assessment mapping computing software     </td></tr>\n",
       "<tr><td>Topic # 32</td><td>recognition neural prediction level mapping quality framework multi data learning                      </td></tr>\n",
       "<tr><td>Topic # 33</td><td>location service engineering feature search networks game activity impact energy                       </td></tr>\n",
       "<tr><td>Topic # 34</td><td>environment product computing cloud assessment analysis level support evaluation feature               </td></tr>\n",
       "<tr><td>Topic # 35</td><td>power wireless heuristic service networks software architecture energy design development              </td></tr>\n",
       "<tr><td>Topic # 36</td><td>information health solution service selection networks use wireless environment estimation             </td></tr>\n",
       "<tr><td>Topic # 37</td><td>activity research neural health mining feature structure framework time application                    </td></tr>\n",
       "<tr><td>Topic # 38</td><td>multi selection heuristic engineering algorithms assessment generation software management architecture</td></tr>\n",
       "<tr><td>Topic # 39</td><td>simulation engineering wireless software computing mapping assessment architecture network environment </td></tr>\n",
       "<tr><td>Topic # 40</td><td>networks sensor wireless neural health research prediction product heuristic selection                 </td></tr>\n",
       "<tr><td>Topic # 41</td><td>assessment technology health literature product computer research education selection mining           </td></tr>\n",
       "<tr><td>Topic # 42</td><td>game engineering education research literature computer neural mining algorithms search                </td></tr>\n",
       "<tr><td>Topic # 43</td><td>mapping algorithms mining prediction computer product service education solution selection             </td></tr>\n",
       "<tr><td>Topic # 44</td><td>cloud computing literature service solution research prediction selection computer engineering         </td></tr>\n",
       "<tr><td>Topic # 45</td><td>quality level service literature solution health wireless research heuristic computer                  </td></tr>\n",
       "<tr><td>Topic # 46</td><td>search heuristic generation solution product computer service wireless engineering networks            </td></tr>\n",
       "<tr><td>Topic # 47</td><td>identification feature selection product prediction research heuristic neural level engineering        </td></tr>\n",
       "<tr><td>Topic # 48</td><td>software development product literature education mining computer engineering service selection        </td></tr>\n",
       "<tr><td>Topic # 49</td><td>machine programming prediction computer solution heuristic sensor generation support game              </td></tr>\n",
       "</tbody>\n",
       "</table>"
      ],
      "text/plain": [
       "<IPython.core.display.HTML object>"
      ]
     },
     "metadata": {},
     "output_type": "display_data"
    },
    {
     "name": "stdout",
     "output_type": "stream",
     "text": [
      "base selection product generation networks heuristic wireless engineering environment estimation\n",
      "---------------------------------------\n",
      "\n",
      "\n",
      "['network properties', 'network types']\n",
      "use neural research prediction mining education computer literature generation search\n",
      "---------------------------------------\n",
      "\n",
      "\n",
      "['information retrieval']\n",
      "analysis health computer solution research feature software networks environment sensor\n",
      "---------------------------------------\n",
      "\n",
      "\n",
      "['software creation and management']\n",
      "model mining prediction wireless engineering generation search level computing network\n",
      "---------------------------------------\n",
      "\n",
      "\n",
      "['professional topics']\n",
      "network neural service sensor search feature computer environment estimation evaluation\n",
      "---------------------------------------\n",
      "\n",
      "\n",
      "['information retrieval']\n",
      "system health literature wireless engineering solution product algorithms neural test\n",
      "---------------------------------------\n",
      "\n",
      "\n",
      "['design and analysis of algorithms']\n",
      "algorithm selection computer search networks product machine game recognition structure\n",
      "---------------------------------------\n",
      "\n",
      "\n",
      "['network types']\n",
      "time solution service prediction wireless game activity support assessment multi\n",
      "---------------------------------------\n",
      "\n",
      "\n",
      "['theory and algorithms for application domains']\n",
      "evaluation algorithms wireless service engineering game technology feature computing software\n",
      "---------------------------------------\n",
      "\n",
      "\n",
      "['software creation and management']\n",
      "data mining service literature heuristic health sensor feature environment estimation\n",
      "---------------------------------------\n",
      "\n",
      "\n",
      "['data management systems']\n",
      "application computer product solution sensor service algorithms classification test environment\n",
      "---------------------------------------\n",
      "\n",
      "\n",
      "['design and analysis of algorithms']\n",
      "detection computer product literature networks feature algorithms level sensor network\n",
      "---------------------------------------\n",
      "\n",
      "\n",
      "['design and analysis of algorithms']\n",
      "design research literature algorithms heuristic generation feature level sensor network\n",
      "---------------------------------------\n",
      "\n",
      "\n",
      "['design and analysis of algorithms']\n",
      "classification neural mining research generation level assessment selection prediction system\n",
      "---------------------------------------\n",
      "\n",
      "\n",
      "['professional topics', 'information retrieval', 'software notations and tools']\n",
      "optimization algorithms selection wireless search engineering product programming generation level\n",
      "---------------------------------------\n",
      "\n",
      "\n",
      "['design and analysis of algorithms']\n",
      "management service research networks prediction search technology assessment support generation\n",
      "---------------------------------------\n",
      "\n",
      "\n",
      "['network properties']\n",
      "systems engineering literature solution neural wireless health selection search algorithms\n",
      "---------------------------------------\n",
      "\n",
      "\n",
      "['design and analysis of algorithms']\n",
      "performance computer search education prediction networks feature sensor algorithms management\n",
      "---------------------------------------\n",
      "\n",
      "\n",
      "['design and analysis of algorithms']\n",
      "image feature search literature neural sensor level computer identification machine\n",
      "---------------------------------------\n",
      "\n",
      "\n",
      "['information retrieval', 'artificial intelligence']\n",
      "control literature prediction product solution health level sensor network estimation\n",
      "---------------------------------------\n",
      "\n",
      "\n",
      "['network properties']\n",
      "learning education computer selection sensor machine environment health algorithms classification\n",
      "---------------------------------------\n",
      "\n",
      "\n",
      "['machine learning']\n",
      "process literature mining engineering selection solution research service programming recognition\n",
      "---------------------------------------\n",
      "\n",
      "\n",
      "['mathematical optimization']\n",
      "framework selection search education wireless generation networks computing activity quality\n",
      "---------------------------------------\n",
      "\n",
      "\n",
      "['professional topics']\n",
      "graph solution neural game structure learning power detection model algorithm\n",
      "---------------------------------------\n",
      "\n",
      "\n",
      "['machine learning']\n",
      "impact education selection mining product assessment networks technology quality network\n",
      "---------------------------------------\n",
      "\n",
      "\n",
      "['network properties']\n",
      "support health selection education computer search neural machine software wireless\n",
      "---------------------------------------\n",
      "\n",
      "\n",
      "['software creation and management']\n",
      "estimation selection neural search generation quality software architecture application data\n",
      "---------------------------------------\n",
      "\n",
      "\n",
      "['data management systems']\n",
      "modeling mining solution sensor assessment software support structure performance estimation\n",
      "---------------------------------------\n",
      "\n",
      "\n",
      "['software creation and management']\n",
      "structure prediction activity architecture data network analysis detection systems design\n",
      "---------------------------------------\n",
      "\n",
      "\n",
      "['data management systems']\n",
      "test heuristic generation machine assessment computing software application programming impact\n",
      "---------------------------------------\n",
      "\n",
      "\n",
      "['software creation and management']\n",
      "architecture health computer product service algorithms search wireless structure multi\n",
      "---------------------------------------\n",
      "\n",
      "\n",
      "['design and analysis of algorithms']\n",
      "energy prediction generation networks engineering technology assessment mapping computing software\n",
      "---------------------------------------\n",
      "\n",
      "\n",
      "['software creation and management']\n",
      "recognition neural prediction level mapping quality framework multi data learning\n",
      "---------------------------------------\n",
      "\n",
      "\n",
      "['machine learning']\n",
      "location service engineering feature search networks game activity impact energy\n",
      "---------------------------------------\n",
      "\n",
      "\n",
      "['information retrieval', 'network types']\n",
      "environment product computing cloud assessment analysis level support evaluation feature\n",
      "---------------------------------------\n",
      "\n",
      "\n",
      "['professional topics']\n",
      "power wireless heuristic service networks software architecture energy design development\n",
      "---------------------------------------\n",
      "\n",
      "\n",
      "['software creation and management']\n",
      "information health solution service selection networks use wireless environment estimation\n",
      "---------------------------------------\n",
      "\n",
      "\n",
      "['network types', 'network properties']\n",
      "activity research neural health mining feature structure framework time application\n",
      "---------------------------------------\n",
      "\n",
      "\n",
      "['software organization and properties', 'real time systems']\n",
      "multi selection heuristic engineering algorithms assessment generation software management architecture\n",
      "---------------------------------------\n",
      "\n",
      "\n",
      "['software organization and properties', 'software creation and management']\n",
      "simulation engineering wireless software computing mapping assessment architecture network environment\n",
      "---------------------------------------\n",
      "\n",
      "\n",
      "['software creation and management']\n",
      "networks sensor wireless neural health research prediction product heuristic selection\n",
      "---------------------------------------\n",
      "\n",
      "\n",
      "['network types']\n",
      "assessment technology health literature product computer research education selection mining\n",
      "---------------------------------------\n",
      "\n",
      "\n",
      "['professional topics']\n",
      "game engineering education research literature computer neural mining algorithms search\n",
      "---------------------------------------\n",
      "\n",
      "\n",
      "['design and analysis of algorithms']\n",
      "mapping algorithms mining prediction computer product service education solution selection\n",
      "---------------------------------------\n",
      "\n",
      "\n",
      "['design and analysis of algorithms']\n",
      "cloud computing literature service solution research prediction selection computer engineering\n",
      "---------------------------------------\n",
      "\n",
      "\n",
      "['professional topics']\n",
      "quality level service literature solution health wireless research heuristic computer\n",
      "---------------------------------------\n",
      "\n",
      "\n",
      "['professional topics']\n",
      "search heuristic generation solution product computer service wireless engineering networks\n",
      "---------------------------------------\n",
      "\n",
      "\n",
      "['network properties']\n",
      "identification feature selection product prediction research heuristic neural level engineering\n",
      "---------------------------------------\n",
      "\n",
      "\n",
      "['professional topics']\n",
      "software development product literature education mining computer engineering service selection\n",
      "---------------------------------------\n",
      "\n",
      "\n",
      "['software creation and management']\n",
      "machine programming prediction computer solution heuristic sensor generation support game\n"
     ]
    },
    {
     "name": "stdout",
     "output_type": "stream",
     "text": [
      "---------------------------------------\n",
      "\n",
      "\n",
      "['mathematical optimization']\n",
      "('NumTopics: ', 1)\n",
      "(Max+min)/2:  47.69969624346666\n",
      "Media:  52.38927860624614\n",
      "Max:  93.4694633545266\n",
      "Min:  1.9299291324067214\n",
      "Variancia:  756.3303330225207\n",
      "Desvio Padrao:  27.50146056162328\n",
      "Desvio Absoluto:  24.65285697379886\n",
      "50\n"
     ]
    },
    {
     "name": "stderr",
     "output_type": "stream",
     "text": [
      "/home/leandror/Dissertação/dissertacao/testes/nmf_stoc/SToC.py:77: RuntimeWarning: invalid value encountered in double_scalars\n",
      "  minConn = (1 - restartProbability) * 1/(n_topics-1)\n",
      "/home/leandror/Dissertação/dissertacao/testes/nmf_stoc/SToC.py:107: RuntimeWarning: invalid value encountered in double_scalars\n",
      "  minConn = (1 - restartProbability) * 1/(k-1)\n",
      "/home/leandror/Dissertação/dissertacao/testes/nmf_stoc/SToC.py:482: RuntimeWarning: invalid value encountered in double_scalars\n",
      "  minProbability = leavingProbability * 1/(meanNumLinks)\n"
     ]
    },
    {
     "data": {
      "text/html": [
       "<table>\n",
       "<tbody>\n",
       "<tr><td>Topic     </td><td>topwords                                                                                              </td></tr>\n",
       "<tr><td>Topic # 0 </td><td>use neural research prediction mining education computer literature generation search                 </td></tr>\n",
       "<tr><td>Topic # 1 </td><td>analysis health computer solution research feature software networks environment sensor               </td></tr>\n",
       "<tr><td>Topic # 2 </td><td>model mining prediction wireless engineering generation search level computing network                </td></tr>\n",
       "<tr><td>Topic # 3 </td><td>network neural service sensor search feature computer environment estimation evaluation               </td></tr>\n",
       "<tr><td>Topic # 4 </td><td>system health literature wireless engineering solution product algorithms neural test                 </td></tr>\n",
       "<tr><td>Topic # 5 </td><td>algorithm selection computer search networks product machine game recognition structure               </td></tr>\n",
       "<tr><td>Topic # 6 </td><td>time solution service prediction wireless game activity support assessment multi                      </td></tr>\n",
       "<tr><td>Topic # 7 </td><td>evaluation algorithms wireless service engineering game technology feature computing software         </td></tr>\n",
       "<tr><td>Topic # 8 </td><td>data mining service literature heuristic health sensor feature environment estimation                 </td></tr>\n",
       "<tr><td>Topic # 9 </td><td>application computer product solution sensor service algorithms classification test environment       </td></tr>\n",
       "<tr><td>Topic # 10</td><td>detection computer product literature networks feature algorithms level sensor network                </td></tr>\n",
       "<tr><td>Topic # 11</td><td>design research literature algorithms heuristic generation feature level sensor network               </td></tr>\n",
       "<tr><td>Topic # 12</td><td>optimization algorithms selection wireless search engineering product programming generation level    </td></tr>\n",
       "<tr><td>Topic # 13</td><td>performance computer search education prediction networks feature sensor algorithms management        </td></tr>\n",
       "<tr><td>Topic # 14</td><td>image feature search literature neural sensor level computer identification machine                   </td></tr>\n",
       "<tr><td>Topic # 15</td><td>control literature prediction product solution health level sensor network estimation                 </td></tr>\n",
       "<tr><td>Topic # 16</td><td>process literature mining engineering selection solution research service programming recognition     </td></tr>\n",
       "<tr><td>Topic # 17</td><td>framework selection search education wireless generation networks computing activity quality          </td></tr>\n",
       "<tr><td>Topic # 18</td><td>graph solution neural game structure learning power detection model algorithm                         </td></tr>\n",
       "<tr><td>Topic # 19</td><td>impact education selection mining product assessment networks technology quality network              </td></tr>\n",
       "<tr><td>Topic # 20</td><td>support health selection education computer search neural machine software wireless                   </td></tr>\n",
       "<tr><td>Topic # 21</td><td>estimation selection neural search generation quality software architecture application data          </td></tr>\n",
       "<tr><td>Topic # 22</td><td>modeling mining solution sensor assessment software support structure performance estimation          </td></tr>\n",
       "<tr><td>Topic # 23</td><td>structure prediction activity architecture data network analysis detection systems design             </td></tr>\n",
       "<tr><td>Topic # 24</td><td>test heuristic generation machine assessment computing software application programming impact        </td></tr>\n",
       "<tr><td>Topic # 25</td><td>location service engineering feature search networks game activity impact energy                      </td></tr>\n",
       "<tr><td>Topic # 26</td><td>power wireless heuristic service networks software architecture energy design development             </td></tr>\n",
       "<tr><td>Topic # 27</td><td>information health solution service selection networks use wireless environment estimation            </td></tr>\n",
       "<tr><td>Topic # 28</td><td>activity research neural health mining feature structure framework time application                   </td></tr>\n",
       "<tr><td>Topic # 29</td><td>simulation engineering wireless software computing mapping assessment architecture network environment</td></tr>\n",
       "<tr><td>Topic # 30</td><td>mapping game engineering algorithms education mining research computer literature prediction          </td></tr>\n",
       "<tr><td>Topic # 31</td><td>identification feature machine programming selection prediction product computer heuristic solution   </td></tr>\n",
       "<tr><td>Topic # 32</td><td>recognition networks sensor neural wireless prediction health research product level                  </td></tr>\n",
       "<tr><td>Topic # 33</td><td>quality cloud computing level service literature solution health wireless research                    </td></tr>\n",
       "<tr><td>Topic # 34</td><td>architecture assessment technology health computer literature product research education service      </td></tr>\n",
       "<tr><td>Topic # 35</td><td>environment software development product literature education mining computer engineering service     </td></tr>\n",
       "<tr><td>Topic # 36</td><td>classification learning neural mining education computer research selection generation sensor         </td></tr>\n",
       "<tr><td>Topic # 37</td><td>base search heuristic generation solution product computer service selection wireless                 </td></tr>\n",
       "<tr><td>Topic # 38</td><td>management energy prediction service research networks generation technology engineering search       </td></tr>\n",
       "<tr><td>Topic # 39</td><td>multi systems selection engineering heuristic literature solution neural wireless health              </td></tr>\n",
       "</tbody>\n",
       "</table>"
      ],
      "text/plain": [
       "<IPython.core.display.HTML object>"
      ]
     },
     "metadata": {},
     "output_type": "display_data"
    },
    {
     "name": "stdout",
     "output_type": "stream",
     "text": [
      "use neural research prediction mining education computer literature generation search\n",
      "---------------------------------------\n",
      "\n",
      "\n",
      "['information retrieval']\n",
      "analysis health computer solution research feature software networks environment sensor\n",
      "---------------------------------------\n",
      "\n",
      "\n",
      "['software creation and management']\n",
      "model mining prediction wireless engineering generation search level computing network\n",
      "---------------------------------------\n",
      "\n",
      "\n",
      "['professional topics']\n",
      "network neural service sensor search feature computer environment estimation evaluation\n",
      "---------------------------------------\n",
      "\n",
      "\n",
      "['information retrieval']\n",
      "system health literature wireless engineering solution product algorithms neural test\n",
      "---------------------------------------\n",
      "\n",
      "\n",
      "['design and analysis of algorithms']\n",
      "algorithm selection computer search networks product machine game recognition structure\n",
      "---------------------------------------\n",
      "\n",
      "\n",
      "['network types']\n",
      "time solution service prediction wireless game activity support assessment multi\n",
      "---------------------------------------\n",
      "\n",
      "\n",
      "['theory and algorithms for application domains']\n",
      "evaluation algorithms wireless service engineering game technology feature computing software\n",
      "---------------------------------------\n",
      "\n",
      "\n",
      "['software creation and management']\n",
      "data mining service literature heuristic health sensor feature environment estimation\n",
      "---------------------------------------\n",
      "\n",
      "\n",
      "['data management systems']\n",
      "application computer product solution sensor service algorithms classification test environment\n",
      "---------------------------------------\n",
      "\n",
      "\n",
      "['design and analysis of algorithms']\n",
      "detection computer product literature networks feature algorithms level sensor network\n",
      "---------------------------------------\n",
      "\n",
      "\n",
      "['design and analysis of algorithms']\n",
      "design research literature algorithms heuristic generation feature level sensor network\n",
      "---------------------------------------\n",
      "\n",
      "\n",
      "['design and analysis of algorithms']\n",
      "optimization algorithms selection wireless search engineering product programming generation level\n",
      "---------------------------------------\n",
      "\n",
      "\n",
      "['design and analysis of algorithms']\n",
      "performance computer search education prediction networks feature sensor algorithms management\n",
      "---------------------------------------\n",
      "\n",
      "\n",
      "['design and analysis of algorithms']\n",
      "image feature search literature neural sensor level computer identification machine\n",
      "---------------------------------------\n",
      "\n",
      "\n",
      "['information retrieval', 'artificial intelligence']\n",
      "control literature prediction product solution health level sensor network estimation\n",
      "---------------------------------------\n",
      "\n",
      "\n",
      "['network properties']\n",
      "process literature mining engineering selection solution research service programming recognition\n",
      "---------------------------------------\n",
      "\n",
      "\n",
      "['mathematical optimization']\n",
      "framework selection search education wireless generation networks computing activity quality\n",
      "---------------------------------------\n",
      "\n",
      "\n",
      "['professional topics']\n",
      "graph solution neural game structure learning power detection model algorithm\n",
      "---------------------------------------\n",
      "\n",
      "\n",
      "['machine learning']\n",
      "impact education selection mining product assessment networks technology quality network\n",
      "---------------------------------------\n",
      "\n",
      "\n",
      "['network properties']\n",
      "support health selection education computer search neural machine software wireless\n",
      "---------------------------------------\n",
      "\n",
      "\n",
      "['software creation and management']\n",
      "estimation selection neural search generation quality software architecture application data\n",
      "---------------------------------------\n",
      "\n",
      "\n",
      "['data management systems']\n",
      "modeling mining solution sensor assessment software support structure performance estimation\n",
      "---------------------------------------\n",
      "\n",
      "\n",
      "['software creation and management']\n",
      "structure prediction activity architecture data network analysis detection systems design\n",
      "---------------------------------------\n",
      "\n",
      "\n",
      "['data management systems']\n",
      "test heuristic generation machine assessment computing software application programming impact\n",
      "---------------------------------------\n",
      "\n",
      "\n",
      "['software creation and management']\n",
      "location service engineering feature search networks game activity impact energy\n",
      "---------------------------------------\n",
      "\n",
      "\n",
      "['information retrieval', 'network types']\n",
      "power wireless heuristic service networks software architecture energy design development\n",
      "---------------------------------------\n",
      "\n",
      "\n",
      "['software creation and management']\n",
      "information health solution service selection networks use wireless environment estimation\n",
      "---------------------------------------\n",
      "\n",
      "\n",
      "['network types', 'network properties']\n",
      "activity research neural health mining feature structure framework time application\n",
      "---------------------------------------\n",
      "\n",
      "\n",
      "['software organization and properties', 'real time systems']\n",
      "simulation engineering wireless software computing mapping assessment architecture network environment\n",
      "---------------------------------------\n",
      "\n",
      "\n",
      "['software creation and management']\n",
      "mapping game engineering algorithms education mining research computer literature prediction\n",
      "---------------------------------------\n",
      "\n",
      "\n",
      "['design and analysis of algorithms']\n",
      "identification feature machine programming selection prediction product computer heuristic solution\n",
      "---------------------------------------\n",
      "\n",
      "\n",
      "['mathematical optimization']\n",
      "recognition networks sensor neural wireless prediction health research product level\n",
      "---------------------------------------\n",
      "\n",
      "\n",
      "['network types']\n",
      "quality cloud computing level service literature solution health wireless research\n",
      "---------------------------------------\n",
      "\n",
      "\n",
      "['professional topics']\n",
      "architecture assessment technology health computer literature product research education service\n",
      "---------------------------------------\n",
      "\n",
      "\n",
      "['professional topics']\n",
      "environment software development product literature education mining computer engineering service\n",
      "---------------------------------------\n",
      "\n",
      "\n",
      "['software creation and management']\n",
      "classification learning neural mining education computer research selection generation sensor\n",
      "---------------------------------------\n",
      "\n",
      "\n",
      "['machine learning']\n",
      "base search heuristic generation solution product computer service selection wireless\n",
      "---------------------------------------\n",
      "\n",
      "\n",
      "['information retrieval']\n",
      "management energy prediction service research networks generation technology engineering search\n",
      "---------------------------------------\n",
      "\n",
      "\n",
      "['network properties']\n",
      "multi systems selection engineering heuristic literature solution neural wireless health\n",
      "---------------------------------------\n",
      "\n",
      "\n",
      "['professional topics']\n",
      "('NumTopics: ', 1)\n",
      "(Max+min)/2:  42.64791661855876\n",
      "Media:  44.16431560643561\n",
      "Max:  83.05108932323013\n",
      "Min:  2.244743913887393\n",
      "Variancia:  593.50724411261\n",
      "Desvio Padrao:  24.36200410706414\n",
      "Desvio Absoluto:  21.50894639103815\n",
      "40\n"
     ]
    },
    {
     "name": "stderr",
     "output_type": "stream",
     "text": [
      "/home/leandror/Dissertação/dissertacao/testes/nmf_stoc/SToC.py:77: RuntimeWarning: divide by zero encountered in double_scalars\n",
      "  minConn = (1 - restartProbability) * 1/(n_topics-1)\n",
      "/home/leandror/Dissertação/dissertacao/testes/nmf_stoc/SToC.py:107: RuntimeWarning: divide by zero encountered in double_scalars\n",
      "  minConn = (1 - restartProbability) * 1/(k-1)\n",
      "/home/leandror/Dissertação/dissertacao/testes/nmf_stoc/SToC.py:482: RuntimeWarning: divide by zero encountered in double_scalars\n",
      "  minProbability = leavingProbability * 1/(meanNumLinks)\n"
     ]
    },
    {
     "data": {
      "text/html": [
       "<table>\n",
       "<tbody>\n",
       "<tr><td>Topic     </td><td>topwords                                                                                              </td></tr>\n",
       "<tr><td>Topic # 0 </td><td>analysis health computer solution research feature software networks environment sensor               </td></tr>\n",
       "<tr><td>Topic # 1 </td><td>model mining prediction wireless engineering generation search level computing network                </td></tr>\n",
       "<tr><td>Topic # 2 </td><td>network neural service sensor search feature computer environment estimation evaluation               </td></tr>\n",
       "<tr><td>Topic # 3 </td><td>algorithm selection computer search networks product machine game recognition structure               </td></tr>\n",
       "<tr><td>Topic # 4 </td><td>time solution service prediction wireless game activity support assessment multi                      </td></tr>\n",
       "<tr><td>Topic # 5 </td><td>data mining service literature heuristic health sensor feature environment estimation                 </td></tr>\n",
       "<tr><td>Topic # 6 </td><td>optimization algorithms selection wireless search engineering product programming generation level    </td></tr>\n",
       "<tr><td>Topic # 7 </td><td>control literature prediction product solution health level sensor network estimation                 </td></tr>\n",
       "<tr><td>Topic # 8 </td><td>process literature mining engineering selection solution research service programming recognition     </td></tr>\n",
       "<tr><td>Topic # 9 </td><td>framework selection search education wireless generation networks computing activity quality          </td></tr>\n",
       "<tr><td>Topic # 10</td><td>graph solution neural game structure learning power detection model algorithm                         </td></tr>\n",
       "<tr><td>Topic # 11</td><td>impact education selection mining product assessment networks technology quality network              </td></tr>\n",
       "<tr><td>Topic # 12</td><td>estimation selection neural search generation quality software architecture application data          </td></tr>\n",
       "<tr><td>Topic # 13</td><td>modeling mining solution sensor assessment software support structure performance estimation          </td></tr>\n",
       "<tr><td>Topic # 14</td><td>structure prediction activity architecture data network analysis detection systems design             </td></tr>\n",
       "<tr><td>Topic # 15</td><td>test heuristic generation machine assessment computing software application programming impact        </td></tr>\n",
       "<tr><td>Topic # 16</td><td>location service engineering feature search networks game activity impact energy                      </td></tr>\n",
       "<tr><td>Topic # 17</td><td>information health solution service selection networks use wireless environment estimation            </td></tr>\n",
       "<tr><td>Topic # 18</td><td>activity research neural health mining feature structure framework time application                   </td></tr>\n",
       "<tr><td>Topic # 19</td><td>simulation engineering wireless software computing mapping assessment architecture network environment</td></tr>\n",
       "<tr><td>Topic # 20</td><td>base search heuristic identification feature machine programming generation selection solution        </td></tr>\n",
       "<tr><td>Topic # 21</td><td>environment software mapping development game engineering algorithms education mining product         </td></tr>\n",
       "<tr><td>Topic # 22</td><td>quality architecture assessment technology cloud computing health level literature service            </td></tr>\n",
       "<tr><td>Topic # 23</td><td>management recognition energy networks sensor neural wireless prediction research service             </td></tr>\n",
       "<tr><td>Topic # 24</td><td>use classification learning neural mining education research computer selection prediction            </td></tr>\n",
       "<tr><td>Topic # 25</td><td>power multi systems wireless selection heuristic engineering service literature solution              </td></tr>\n",
       "<tr><td>Topic # 26</td><td>detection image computer literature product feature networks search algorithms sensor                 </td></tr>\n",
       "<tr><td>Topic # 27</td><td>system support health selection education literature wireless engineering solution computer           </td></tr>\n",
       "<tr><td>Topic # 28</td><td>performance evaluation computer algorithms wireless search service education engineering prediction   </td></tr>\n",
       "<tr><td>Topic # 29</td><td>design application research computer product literature algorithms solution sensor heuristic          </td></tr>\n",
       "</tbody>\n",
       "</table>"
      ],
      "text/plain": [
       "<IPython.core.display.HTML object>"
      ]
     },
     "metadata": {},
     "output_type": "display_data"
    },
    {
     "name": "stdout",
     "output_type": "stream",
     "text": [
      "analysis health computer solution research feature software networks environment sensor\n",
      "---------------------------------------\n",
      "\n",
      "\n",
      "['software creation and management']\n",
      "model mining prediction wireless engineering generation search level computing network\n",
      "---------------------------------------\n",
      "\n",
      "\n",
      "['professional topics']\n",
      "network neural service sensor search feature computer environment estimation evaluation\n",
      "---------------------------------------\n",
      "\n",
      "\n",
      "['information retrieval']\n",
      "algorithm selection computer search networks product machine game recognition structure\n",
      "---------------------------------------\n",
      "\n",
      "\n",
      "['network types']\n",
      "time solution service prediction wireless game activity support assessment multi\n",
      "---------------------------------------\n",
      "\n",
      "\n",
      "['theory and algorithms for application domains']\n",
      "data mining service literature heuristic health sensor feature environment estimation\n",
      "---------------------------------------\n",
      "\n",
      "\n",
      "['data management systems']\n",
      "optimization algorithms selection wireless search engineering product programming generation level\n",
      "---------------------------------------\n",
      "\n",
      "\n",
      "['design and analysis of algorithms']\n",
      "control literature prediction product solution health level sensor network estimation\n",
      "---------------------------------------\n",
      "\n",
      "\n",
      "['network properties']\n",
      "process literature mining engineering selection solution research service programming recognition\n",
      "---------------------------------------\n",
      "\n",
      "\n",
      "['mathematical optimization']\n",
      "framework selection search education wireless generation networks computing activity quality\n",
      "---------------------------------------\n",
      "\n",
      "\n",
      "['professional topics']\n",
      "graph solution neural game structure learning power detection model algorithm\n",
      "---------------------------------------\n",
      "\n",
      "\n",
      "['machine learning']\n",
      "impact education selection mining product assessment networks technology quality network\n",
      "---------------------------------------\n",
      "\n",
      "\n",
      "['network properties']\n",
      "estimation selection neural search generation quality software architecture application data\n",
      "---------------------------------------\n",
      "\n",
      "\n",
      "['data management systems']\n",
      "modeling mining solution sensor assessment software support structure performance estimation\n",
      "---------------------------------------\n",
      "\n",
      "\n",
      "['software creation and management']\n",
      "structure prediction activity architecture data network analysis detection systems design\n",
      "---------------------------------------\n",
      "\n",
      "\n",
      "['data management systems']\n",
      "test heuristic generation machine assessment computing software application programming impact\n",
      "---------------------------------------\n",
      "\n",
      "\n",
      "['software creation and management']\n",
      "location service engineering feature search networks game activity impact energy\n",
      "---------------------------------------\n",
      "\n",
      "\n",
      "['information retrieval', 'network types']\n",
      "information health solution service selection networks use wireless environment estimation\n",
      "---------------------------------------\n",
      "\n",
      "\n",
      "['network types', 'network properties']\n",
      "activity research neural health mining feature structure framework time application\n",
      "---------------------------------------\n",
      "\n",
      "\n",
      "['software organization and properties', 'real time systems']\n",
      "simulation engineering wireless software computing mapping assessment architecture network environment\n",
      "---------------------------------------\n",
      "\n",
      "\n",
      "['software creation and management']\n",
      "base search heuristic identification feature machine programming generation selection solution\n",
      "---------------------------------------\n",
      "\n",
      "\n",
      "['mathematical optimization']\n",
      "environment software mapping development game engineering algorithms education mining product\n",
      "---------------------------------------\n",
      "\n",
      "\n",
      "['software creation and management']\n",
      "quality architecture assessment technology cloud computing health level literature service\n",
      "---------------------------------------\n",
      "\n",
      "\n",
      "['architectures', 'professional topics']\n",
      "management recognition energy networks sensor neural wireless prediction research service\n",
      "---------------------------------------\n",
      "\n",
      "\n",
      "['network types', 'network properties']\n",
      "use classification learning neural mining education research computer selection prediction\n",
      "---------------------------------------\n",
      "\n",
      "\n",
      "['machine learning']\n",
      "power multi systems wireless selection heuristic engineering service literature solution\n",
      "---------------------------------------\n",
      "\n",
      "\n",
      "['professional topics', 'information systems applications']\n",
      "detection image computer literature product feature networks search algorithms sensor\n",
      "---------------------------------------\n",
      "\n",
      "\n",
      "['design and analysis of algorithms']\n",
      "system support health selection education literature wireless engineering solution computer\n",
      "---------------------------------------\n",
      "\n",
      "\n",
      "['professional topics']\n",
      "performance evaluation computer algorithms wireless search service education engineering prediction\n",
      "---------------------------------------\n",
      "\n",
      "\n",
      "['design and analysis of algorithms']\n",
      "design application research computer product literature algorithms solution sensor heuristic\n",
      "---------------------------------------\n",
      "\n",
      "\n",
      "['design and analysis of algorithms']\n",
      "('NumTopics: ', 1)\n",
      "(Max+min)/2:  36.68110651903874\n",
      "Media:  37.1020046178634\n",
      "Max:  70.8495036919859\n",
      "Min:  2.5127093460915773\n",
      "Variancia:  404.68058086592424\n",
      "Desvio Padrao:  20.116674199924905\n",
      "Desvio Absoluto:  17.359104880728434\n",
      "30\n"
     ]
    },
    {
     "name": "stderr",
     "output_type": "stream",
     "text": [
      "/home/leandror/Dissertação/dissertacao/testes/nmf_stoc/SToC.py:77: RuntimeWarning: invalid value encountered in double_scalars\n",
      "  minConn = (1 - restartProbability) * 1/(n_topics-1)\n",
      "/home/leandror/Dissertação/dissertacao/testes/nmf_stoc/SToC.py:107: RuntimeWarning: invalid value encountered in double_scalars\n",
      "  minConn = (1 - restartProbability) * 1/(k-1)\n",
      "/home/leandror/Dissertação/dissertacao/testes/nmf_stoc/SToC.py:482: RuntimeWarning: invalid value encountered in double_scalars\n",
      "  minProbability = leavingProbability * 1/(meanNumLinks)\n"
     ]
    },
    {
     "data": {
      "text/html": [
       "<table>\n",
       "<tbody>\n",
       "<tr><td>Topic     </td><td>topwords                                                                                              </td></tr>\n",
       "<tr><td>Topic # 0 </td><td>analysis health computer solution research feature software networks environment sensor               </td></tr>\n",
       "<tr><td>Topic # 1 </td><td>model mining prediction wireless engineering generation search level computing network                </td></tr>\n",
       "<tr><td>Topic # 2 </td><td>network neural service sensor search feature computer environment estimation evaluation               </td></tr>\n",
       "<tr><td>Topic # 3 </td><td>time solution service prediction wireless game activity support assessment multi                      </td></tr>\n",
       "<tr><td>Topic # 4 </td><td>optimization algorithms selection wireless search engineering product programming generation level    </td></tr>\n",
       "<tr><td>Topic # 5 </td><td>control literature prediction product solution health level sensor network estimation                 </td></tr>\n",
       "<tr><td>Topic # 6 </td><td>graph solution neural game structure learning power detection model algorithm                         </td></tr>\n",
       "<tr><td>Topic # 7 </td><td>estimation selection neural search generation quality software architecture application data          </td></tr>\n",
       "<tr><td>Topic # 8 </td><td>test heuristic generation machine assessment computing software application programming impact        </td></tr>\n",
       "<tr><td>Topic # 9 </td><td>simulation engineering wireless software computing mapping assessment architecture network environment</td></tr>\n",
       "<tr><td>Topic # 10</td><td>base search environment heuristic identification software feature mapping machine development         </td></tr>\n",
       "<tr><td>Topic # 11</td><td>management recognition quality energy architecture assessment technology cloud networks sensor        </td></tr>\n",
       "<tr><td>Topic # 12</td><td>detection image use classification learning computer neural mining literature education               </td></tr>\n",
       "<tr><td>Topic # 13</td><td>power system support multi systems health selection wireless heuristic engineering                    </td></tr>\n",
       "<tr><td>Topic # 14</td><td>design performance evaluation application computer research algorithms product literature solution    </td></tr>\n",
       "<tr><td>Topic # 15</td><td>framework data mining selection service search literature heuristic education wireless                </td></tr>\n",
       "<tr><td>Topic # 16</td><td>modeling process mining solution literature engineering selection sensor research service             </td></tr>\n",
       "<tr><td>Topic # 17</td><td>location algorithm service engineering feature search networks selection game computer                </td></tr>\n",
       "<tr><td>Topic # 18</td><td>structure activity prediction research neural health mining feature architecture data                 </td></tr>\n",
       "<tr><td>Topic # 19</td><td>impact information selection education health mining solution product service networks                </td></tr>\n",
       "</tbody>\n",
       "</table>"
      ],
      "text/plain": [
       "<IPython.core.display.HTML object>"
      ]
     },
     "metadata": {},
     "output_type": "display_data"
    },
    {
     "name": "stdout",
     "output_type": "stream",
     "text": [
      "analysis health computer solution research feature software networks environment sensor\n",
      "---------------------------------------\n",
      "\n",
      "\n",
      "['software creation and management']\n",
      "model mining prediction wireless engineering generation search level computing network\n",
      "---------------------------------------\n",
      "\n",
      "\n",
      "['professional topics']\n",
      "network neural service sensor search feature computer environment estimation evaluation\n",
      "---------------------------------------\n",
      "\n",
      "\n",
      "['information retrieval']\n",
      "time solution service prediction wireless game activity support assessment multi\n",
      "---------------------------------------\n",
      "\n",
      "\n",
      "['theory and algorithms for application domains']\n",
      "optimization algorithms selection wireless search engineering product programming generation level\n",
      "---------------------------------------\n",
      "\n",
      "\n",
      "['design and analysis of algorithms']\n",
      "control literature prediction product solution health level sensor network estimation\n",
      "---------------------------------------\n",
      "\n",
      "\n",
      "['network properties']\n",
      "graph solution neural game structure learning power detection model algorithm\n",
      "---------------------------------------\n",
      "\n",
      "\n",
      "['machine learning']\n",
      "estimation selection neural search generation quality software architecture application data\n",
      "---------------------------------------\n",
      "\n",
      "\n",
      "['data management systems']\n",
      "test heuristic generation machine assessment computing software application programming impact\n",
      "---------------------------------------\n",
      "\n",
      "\n",
      "['software creation and management']\n",
      "simulation engineering wireless software computing mapping assessment architecture network environment\n",
      "---------------------------------------\n",
      "\n",
      "\n",
      "['software creation and management']\n",
      "base search environment heuristic identification software feature mapping machine development\n",
      "---------------------------------------\n",
      "\n",
      "\n",
      "['software creation and management']\n",
      "management recognition quality energy architecture assessment technology cloud networks sensor\n",
      "---------------------------------------\n",
      "\n",
      "\n",
      "['network types']\n",
      "detection image use classification learning computer neural mining literature education\n",
      "---------------------------------------\n",
      "\n",
      "\n",
      "['machine learning']\n",
      "power system support multi systems health selection wireless heuristic engineering\n",
      "---------------------------------------\n",
      "\n",
      "\n",
      "['professional topics']\n",
      "design performance evaluation application computer research algorithms product literature solution\n",
      "---------------------------------------\n",
      "\n",
      "\n",
      "['design and analysis of algorithms']\n",
      "framework data mining selection service search literature heuristic education wireless\n",
      "---------------------------------------\n",
      "\n",
      "\n",
      "['data management systems']\n",
      "modeling process mining solution literature engineering selection sensor research service\n",
      "---------------------------------------\n",
      "\n",
      "\n",
      "['enterprise computing']\n",
      "location algorithm service engineering feature search networks selection game computer\n",
      "---------------------------------------\n",
      "\n",
      "\n",
      "['information retrieval', 'network types']\n",
      "structure activity prediction research neural health mining feature architecture data\n",
      "---------------------------------------\n",
      "\n",
      "\n",
      "['data management systems']\n",
      "impact information selection education health mining solution product service networks\n",
      "---------------------------------------\n",
      "\n",
      "\n",
      "['professional topics']\n",
      "('NumTopics: ', 1)\n",
      "(Max+min)/2:  29.34607643181232\n",
      "Media:  27.185896774406118\n",
      "Max:  54.70968778222468\n",
      "Min:  3.982465081399968\n",
      "Variancia:  213.8383768454351\n",
      "Desvio Padrao:  14.623213629207333\n",
      "Desvio Absoluto:  12.580970116764847\n",
      "20\n"
     ]
    },
    {
     "name": "stderr",
     "output_type": "stream",
     "text": [
      "/home/leandror/Dissertação/dissertacao/testes/nmf_stoc/SToC.py:77: RuntimeWarning: invalid value encountered in double_scalars\n",
      "  minConn = (1 - restartProbability) * 1/(n_topics-1)\n",
      "/home/leandror/Dissertação/dissertacao/testes/nmf_stoc/SToC.py:107: RuntimeWarning: invalid value encountered in double_scalars\n",
      "  minConn = (1 - restartProbability) * 1/(k-1)\n",
      "/home/leandror/Dissertação/dissertacao/testes/nmf_stoc/SToC.py:482: RuntimeWarning: invalid value encountered in double_scalars\n",
      "  minProbability = leavingProbability * 1/(meanNumLinks)\n"
     ]
    },
    {
     "data": {
      "text/html": [
       "<table>\n",
       "<tbody>\n",
       "<tr><td>Topic    </td><td>topwords                                                                                           </td></tr>\n",
       "<tr><td>Topic # 0</td><td>base management recognition quality search environment energy architecture heuristic identification</td></tr>\n",
       "<tr><td>Topic # 1</td><td>detection image power system use support classification learning multi systems                     </td></tr>\n",
       "<tr><td>Topic # 2</td><td>modeling process design performance evaluation application mining solution literature computer     </td></tr>\n",
       "<tr><td>Topic # 3</td><td>location optimization algorithm service selection algorithms search engineering wireless feature   </td></tr>\n",
       "<tr><td>Topic # 4</td><td>impact framework information data selection education mining health service solution               </td></tr>\n",
       "<tr><td>Topic # 5</td><td>control time prediction solution service literature product health wireless level                  </td></tr>\n",
       "<tr><td>Topic # 6</td><td>estimation model selection neural search generation mining prediction wireless engineering         </td></tr>\n",
       "<tr><td>Topic # 7</td><td>test analysis heuristic health computer generation machine solution assessment research            </td></tr>\n",
       "<tr><td>Topic # 8</td><td>network structure activity neural prediction research service health mining sensor                 </td></tr>\n",
       "<tr><td>Topic # 9</td><td>simulation graph solution neural engineering wireless software computing mapping game              </td></tr>\n",
       "</tbody>\n",
       "</table>"
      ],
      "text/plain": [
       "<IPython.core.display.HTML object>"
      ]
     },
     "metadata": {},
     "output_type": "display_data"
    },
    {
     "name": "stdout",
     "output_type": "stream",
     "text": [
      "base management recognition quality search environment energy architecture heuristic identification\n",
      "---------------------------------------\n",
      "\n",
      "\n",
      "['information retrieval']\n",
      "detection image power system use support classification learning multi systems\n",
      "---------------------------------------\n",
      "\n",
      "\n",
      "['machine learning']\n",
      "modeling process design performance evaluation application mining solution literature computer\n",
      "---------------------------------------\n",
      "\n",
      "\n",
      "['interaction design']\n",
      "location optimization algorithm service selection algorithms search engineering wireless feature\n",
      "---------------------------------------\n",
      "\n",
      "\n",
      "['design and analysis of algorithms']\n",
      "impact framework information data selection education mining health service solution\n",
      "---------------------------------------\n",
      "\n",
      "\n",
      "['data management systems']\n",
      "control time prediction solution service literature product health wireless level\n",
      "---------------------------------------\n",
      "\n",
      "\n",
      "['software notations and tools']\n",
      "estimation model selection neural search generation mining prediction wireless engineering\n",
      "---------------------------------------\n",
      "\n",
      "\n",
      "['information retrieval']\n",
      "test analysis heuristic health computer generation machine solution assessment research\n",
      "---------------------------------------\n",
      "\n",
      "\n",
      "['hardware test']\n",
      "network structure activity neural prediction research service health mining sensor\n",
      "---------------------------------------\n",
      "\n",
      "\n",
      "['network properties']\n",
      "simulation graph solution neural engineering wireless software computing mapping game\n",
      "---------------------------------------\n",
      "\n",
      "\n",
      "['software creation and management']\n",
      "('NumTopics: ', 1)\n",
      "(Max+min)/2:  18.099496914201943\n",
      "Media:  15.52278479181699\n",
      "Max:  32.51896561535413\n",
      "Min:  3.680028213049754\n",
      "Variancia:  78.48905564587352\n",
      "Desvio Padrao:  8.859404926171594\n",
      "Desvio Absoluto:  6.778501703142204\n",
      "10\n"
     ]
    },
    {
     "name": "stderr",
     "output_type": "stream",
     "text": [
      "/home/leandror/Dissertação/dissertacao/testes/nmf_stoc/SToC.py:77: RuntimeWarning: invalid value encountered in double_scalars\n",
      "  minConn = (1 - restartProbability) * 1/(n_topics-1)\n",
      "/home/leandror/Dissertação/dissertacao/testes/nmf_stoc/SToC.py:107: RuntimeWarning: invalid value encountered in double_scalars\n",
      "  minConn = (1 - restartProbability) * 1/(k-1)\n",
      "/home/leandror/Dissertação/dissertacao/testes/nmf_stoc/SToC.py:482: RuntimeWarning: invalid value encountered in double_scalars\n",
      "  minProbability = leavingProbability * 1/(meanNumLinks)\n"
     ]
    },
    {
     "data": {
      "text/html": [
       "<table>\n",
       "<tbody>\n",
       "<tr><td>Topic    </td><td>topwords                                                                           </td></tr>\n",
       "<tr><td>Topic # 0</td><td>location optimization control time algorithm test estimation network analysis model</td></tr>\n",
       "</tbody>\n",
       "</table>"
      ],
      "text/plain": [
       "<IPython.core.display.HTML object>"
      ]
     },
     "metadata": {},
     "output_type": "display_data"
    },
    {
     "name": "stdout",
     "output_type": "stream",
     "text": [
      "location optimization control time algorithm test estimation network analysis model\n",
      "---------------------------------------\n",
      "\n",
      "\n",
      "['mathematical optimization']\n"
     ]
    }
   ],
   "source": [
    "n_components_new = n_components\n",
    "H_new = H\n",
    "W_new = W\n",
    "for level in [i for i in range(0,n_components,10)][::-1]:\n",
    "    W_new,H_new = execute_stoc(H=H_new,W=W_new,n_components=n_components_new,n_final=level)\n",
    "    topics, df_out = print_top_words_display(H_new, tfidf_feature_names,n_topics)\n",
    "    #pmi, nmpi = Eval.pmi(topics, word_frequency, term_docs,len(artigos), 10)\n",
    "    n_components_new = level\n",
    "    H_new = H_new.transpose()\n",
    "    W_new = W_new.transpose()\n",
    "    #pmi, nmpi = Eval.pmi(topics, word_frequency, term_docs,len(artigos), 10)\n",
    "    #pmi_npmi_print(pmi,npmi)\n",
    "#     for topic in topics:\n",
    "#         print(topic)\n",
    "#         topic_acm_area(topic,areas_id,areas_parents)\n",
    "#         print(\"---------------------------------------\")\n",
    "#         print(\"\\n\")\n",
    "    table = []\n",
    "    for idx,topic in enumerate(topics):\n",
    "        similar_area = topic_acm_area(topic,areas_id,areas_parents)\n",
    "        print(\"---------------------------------------\")\n",
    "        print(\"\\n\")\n",
    "        if similar_area.items():\n",
    "            maior = 0\n",
    "            for value in similar_area:\n",
    "                if not len(areas_parents[value]) == 0:\n",
    "                    if similar_area[value] > maior:\n",
    "                        maior = similar_area[value]\n",
    "            result = []\n",
    "            for i in getKeysByValue(similar_area,maior):\n",
    "                if len(areas_parents[i]) != 0:\n",
    "                    result.append(areas_id[i])\n",
    "\n",
    "            print(result)\n",
    "            table.append([idx,topic,result])\n",
    "    df_table = pd.DataFrame(table,columns=['id','topwords','description'])\n",
    "    df_table.to_csv('topic_hier'+str(level)+'.csv',index=False)"
   ]
  },
  {
   "cell_type": "code",
   "execution_count": null,
   "metadata": {
    "ExecuteTime": {
     "end_time": "2019-02-08T17:59:35.483731Z",
     "start_time": "2019-02-08T17:59:34.972Z"
    }
   },
   "outputs": [],
   "source": [
    "df_out = print_top_words_display(H_new, tfidf_feature_names,n_topics)\n",
    "# df_out.to_csv('topics_'+ano+'.csv',header=None)"
   ]
  },
  {
   "cell_type": "code",
   "execution_count": null,
   "metadata": {
    "ExecuteTime": {
     "end_time": "2019-02-02T17:14:12.782163Z",
     "start_time": "2019-02-02T17:13:26.009Z"
    }
   },
   "outputs": [],
   "source": [
    "n_terms, words, word_frequency, term_docs = Eval.count(artigos)"
   ]
  },
  {
   "cell_type": "code",
   "execution_count": null,
   "metadata": {
    "ExecuteTime": {
     "end_time": "2019-02-02T17:14:12.783594Z",
     "start_time": "2019-02-02T17:13:26.015Z"
    },
    "scrolled": true
   },
   "outputs": [],
   "source": [
    "Eval.tfidf_coherence(topics, tfidf, tfidf_feature_names)"
   ]
  },
  {
   "cell_type": "code",
   "execution_count": null,
   "metadata": {
    "ExecuteTime": {
     "end_time": "2019-02-02T17:14:12.785109Z",
     "start_time": "2019-02-02T17:13:26.020Z"
    }
   },
   "outputs": [],
   "source": [
    "pmi, nmpi = Eval.pmi(topics, word_frequency, term_docs,len(artigos), 10)"
   ]
  },
  {
   "cell_type": "code",
   "execution_count": 119,
   "metadata": {},
   "outputs": [
    {
     "name": "stdout",
     "output_type": "stream",
     "text": [
      "TF-IDF Coherence Score\n",
      "----------------------\n",
      "Média: 202.31666666666666\n",
      "Desvio Padrão: 64.12659398796396\n",
      "Variância: 4112.220056497175\n",
      "Min: 100\n",
      "Max: 420\n",
      "----------------------\n",
      "\n"
     ]
    }
   ],
   "source": [
    "x = []\n",
    "for value in W.transpose():\n",
    "    x.append(len([v for v in value if v > 0 ]))\n",
    "tf_idf_print(x)"
   ]
  },
  {
   "cell_type": "code",
   "execution_count": 122,
   "metadata": {},
   "outputs": [
    {
     "ename": "SyntaxError",
     "evalue": "invalid syntax (<ipython-input-122-515c4d223780>, line 3)",
     "output_type": "error",
     "traceback": [
      "\u001b[0;36m  File \u001b[0;32m\"<ipython-input-122-515c4d223780>\"\u001b[0;36m, line \u001b[0;32m3\u001b[0m\n\u001b[0;31m    x.append(len([v if not in x else -1 for v in value ])\u001b[0m\n\u001b[0m                            ^\u001b[0m\n\u001b[0;31mSyntaxError\u001b[0m\u001b[0;31m:\u001b[0m invalid syntax\n"
     ]
    }
   ],
   "source": [
    "x = []\n",
    "for value in W.transpose():\n",
    "    x.append(len([v if not in x else -1 for v in value ])"
   ]
  },
  {
   "cell_type": "code",
   "execution_count": 123,
   "metadata": {},
   "outputs": [
    {
     "name": "stdout",
     "output_type": "stream",
     "text": [
      "0.024486598399641877\n"
     ]
    }
   ],
   "source": [
    "word_freq_dict = dict(words_freq)\n",
    "media_freq = 0\n",
    "for word in tfidf_feature_names:\n",
    "    media_freq += word_freq_dict[word]\n",
    "media_freq = media_freq/len(tfidf_feature_names)\n",
    "print(media_freq/len(artigos))"
   ]
  },
  {
   "cell_type": "code",
   "execution_count": null,
   "metadata": {},
   "outputs": [],
   "source": []
  }
 ],
 "metadata": {
  "kernelspec": {
   "display_name": "Python 3",
   "language": "python",
   "name": "python3"
  },
  "language_info": {
   "codemirror_mode": {
    "name": "ipython",
    "version": 3
   },
   "file_extension": ".py",
   "mimetype": "text/x-python",
   "name": "python",
   "nbconvert_exporter": "python",
   "pygments_lexer": "ipython3",
   "version": "3.6.7"
  },
  "toc": {
   "base_numbering": 1,
   "nav_menu": {},
   "number_sections": true,
   "sideBar": true,
   "skip_h1_title": false,
   "title_cell": "Table of Contents",
   "title_sidebar": "Contents",
   "toc_cell": false,
   "toc_position": {
    "height": "calc(100% - 180px)",
    "left": "10px",
    "top": "150px",
    "width": "347.797px"
   },
   "toc_section_display": true,
   "toc_window_display": false
  },
  "varInspector": {
   "cols": {
    "lenName": 16,
    "lenType": 16,
    "lenVar": 40
   },
   "kernels_config": {
    "python": {
     "delete_cmd_postfix": "",
     "delete_cmd_prefix": "del ",
     "library": "var_list.py",
     "varRefreshCmd": "print(var_dic_list())"
    },
    "r": {
     "delete_cmd_postfix": ") ",
     "delete_cmd_prefix": "rm(",
     "library": "var_list.r",
     "varRefreshCmd": "cat(var_dic_list()) "
    }
   },
   "position": {
    "height": "144px",
    "left": "995px",
    "right": "20px",
    "top": "120px",
    "width": "350px"
   },
   "types_to_exclude": [
    "module",
    "function",
    "builtin_function_or_method",
    "instance",
    "_Feature"
   ],
   "window_display": false
  }
 },
 "nbformat": 4,
 "nbformat_minor": 2
}
