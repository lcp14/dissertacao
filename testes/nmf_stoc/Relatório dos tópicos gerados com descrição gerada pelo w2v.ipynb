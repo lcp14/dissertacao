{
 "cells": [
  {
   "cell_type": "markdown",
   "metadata": {},
   "source": [
    "# Resultados da descrição automática dos tópicos\n",
    "\n",
    "1) Revisei e aprimorei o pré-processamento dos artigos\n",
    "2) Treinei o w2v utilizando artigos de 2008 até 2018\n",
    "3) "
   ]
  },
  {
   "cell_type": "code",
   "execution_count": 1,
   "metadata": {
    "ExecuteTime": {
     "end_time": "2019-03-29T06:14:55.347995Z",
     "start_time": "2019-03-29T06:14:55.340234Z"
    }
   },
   "outputs": [],
   "source": [
    "import pickle\n",
    "from IPython.display import HTML, display\n",
    "from tabulate import tabulate"
   ]
  },
  {
   "cell_type": "markdown",
   "metadata": {},
   "source": [
    "## Gerar os tópicos e a descrição deles\n"
   ]
  },
  {
   "cell_type": "markdown",
   "metadata": {},
   "source": [
    "Parametros do script, ano, se vai utilizar stem ou não, "
   ]
  },
  {
   "cell_type": "code",
   "execution_count": 19,
   "metadata": {
    "ExecuteTime": {
     "end_time": "2019-03-29T06:24:15.107193Z",
     "start_time": "2019-03-29T06:24:12.187836Z"
    }
   },
   "outputs": [],
   "source": [
    "stem = 'yes'\n",
    "if stem == 'yes':\n",
    "    !python generatingtopics.py 2017 yes 0 3 # ANO |STEMMING |(YES OR NO) |HIERARCHY | LEVELS TO DEFINE AREA\n",
    "    folder = 'stem/'\n",
    "elif stem == 'no':\n",
    "    !python generatingtopics.py 2017 no 0 3\n",
    "    folder = 'no_stem/'"
   ]
  },
  {
   "cell_type": "code",
   "execution_count": 20,
   "metadata": {
    "ExecuteTime": {
     "end_time": "2019-03-29T06:24:15.142314Z",
     "start_time": "2019-03-29T06:24:15.136814Z"
    },
    "code_folding": []
   },
   "outputs": [
    {
     "data": {
      "text/html": [
       "<table>\n",
       "<tbody>\n",
       "<tr><td>id</td><td>topic                                                                     </td><td>area                          </td></tr>\n",
       "<tr><td>0 </td><td>base imag control featur framework detect optim classif function agent    </td><td>computing methodologies       </td></tr>\n",
       "<tr><td>1 </td><td>analysi imag process combin energi distribut tool perform structur product</td><td>general and reference         </td></tr>\n",
       "<tr><td>2 </td><td>model estim simul gener perform test use graph predict plan               </td><td>mathematics of computing      </td></tr>\n",
       "<tr><td>3 </td><td>network neural sensor wireless detect gener manag classif survey servic   </td><td>networks                      </td></tr>\n",
       "<tr><td>4 </td><td>algorithm problem optim locat rout appli search graph distanc program     </td><td>theory of computation         </td></tr>\n",
       "<tr><td>5 </td><td>system time control support perform engin energi manag distribut inform   </td><td>security and privacy          </td></tr>\n",
       "<tr><td>6 </td><td>data mine applic classif manag framework cluster time techniqu cloud      </td><td>information systems           </td></tr>\n",
       "<tr><td>7 </td><td>studi case map softwar process product engin effect strategi develop      </td><td>social and professional topics</td></tr>\n",
       "<tr><td>8 </td><td>method evalu design comput detect applic softwar time imag perform        </td><td>general and reference         </td></tr>\n",
       "<tr><td>9 </td><td>approach learn machin classif process environ object support map experi   </td><td>human centered computing      </td></tr>\n",
       "</tbody>\n",
       "</table>"
      ],
      "text/plain": [
       "<IPython.core.display.HTML object>"
      ]
     },
     "metadata": {},
     "output_type": "display_data"
    }
   ],
   "source": [
    "with open(folder+'tabela_t10.pickle','rb') as f:\n",
    "    table_t10 = pickle.load(f)\n",
    "#display(HTML(tabulate(table_first_t20, tablefmt='html')))\n",
    "display(HTML(tabulate(table_t10, tablefmt='html')))"
   ]
  },
  {
   "cell_type": "code",
   "execution_count": 15,
   "metadata": {
    "ExecuteTime": {
     "end_time": "2019-03-29T06:20:40.260462Z",
     "start_time": "2019-03-29T06:20:40.254078Z"
    },
    "code_folding": []
   },
   "outputs": [
    {
     "data": {
      "text/html": [
       "<table>\n",
       "<tbody>\n",
       "<tr><td>id</td><td>topic                                                                                                </td><td>area                                </td></tr>\n",
       "<tr><td>0 </td><td>based image models optimization framework control classification applications programming features   </td><td>parallel computing methodologies    </td></tr>\n",
       "<tr><td>1 </td><td>analysis modeling process image health identification energy performance decision simulation         </td><td>software notations and tools        </td></tr>\n",
       "<tr><td>2 </td><td>data mining classification management framework clustering applied cloud techniques energy           </td><td>hardware test                       </td></tr>\n",
       "<tr><td>3 </td><td>networks neural sensor wireless performance management recognition energy power prediction           </td><td>embedded and cyber physical systems </td></tr>\n",
       "<tr><td>4 </td><td>model application development computing energy generation power framework search decision            </td><td>operations research                 </td></tr>\n",
       "<tr><td>5 </td><td>systems control applications performance management modeling energy applied power support            </td><td>systems security                    </td></tr>\n",
       "<tr><td>6 </td><td>software process development mapping engineering management assessment application literature support</td><td>information theory                  </td></tr>\n",
       "<tr><td>7 </td><td>time applied control multi wireless quality algorithms architecture patterns state                   </td><td>very large scale integration design </td></tr>\n",
       "<tr><td>8 </td><td>evaluation performance algorithms computing cloud models quality techniques methods development      </td><td>human computer interaction  hci     </td></tr>\n",
       "<tr><td>9 </td><td>algorithm applied optimization problems search estimation image programming algorithms models        </td><td>concurrent computing methodologies  </td></tr>\n",
       "<tr><td>10</td><td>learning classification machine algorithms support prediction use techniques education identification</td><td>formal languages and automata theory</td></tr>\n",
       "<tr><td>11</td><td>network neural management problems optimization generation monitoring wireless sensor classification </td><td>network algorithms                  </td></tr>\n",
       "<tr><td>12</td><td>system information performance control management health support cloud modeling identification       </td><td>physical sciences and engineering   </td></tr>\n",
       "<tr><td>13</td><td>detection image use features application methods applied graphs computer information                 </td><td>visualization                       </td></tr>\n",
       "<tr><td>14</td><td>design models applications optimization application power algorithms process research estimation     </td><td>operations research                 </td></tr>\n",
       "</tbody>\n",
       "</table>"
      ],
      "text/plain": [
       "<IPython.core.display.HTML object>"
      ]
     },
     "metadata": {},
     "output_type": "display_data"
    }
   ],
   "source": [
    "with open(folder+'tabela_t15.pickle','rb') as f:\n",
    "    table_t15 = pickle.load(f)\n",
    "#display(HTML(tabulate(table_first_t20, tablefmt='html')))\n",
    "display(HTML(tabulate(table_t15, tablefmt='html')))"
   ]
  },
  {
   "cell_type": "code",
   "execution_count": 16,
   "metadata": {
    "ExecuteTime": {
     "end_time": "2019-03-29T06:20:40.405624Z",
     "start_time": "2019-03-29T06:20:40.395614Z"
    },
    "code_folding": []
   },
   "outputs": [
    {
     "data": {
      "text/html": [
       "<table>\n",
       "<tbody>\n",
       "<tr><td>id</td><td>topic                                                                                                </td><td>area                                         </td></tr>\n",
       "<tr><td>0 </td><td>based image framework control classification applications features generation architecture selection </td><td>document management and text processing      </td></tr>\n",
       "<tr><td>1 </td><td>analysis image health identification energy process decision computer simulation features            </td><td>software notations and tools                 </td></tr>\n",
       "<tr><td>2 </td><td>data mining classification framework clustering techniques monitoring application cloud methods      </td><td>world wide web                               </td></tr>\n",
       "<tr><td>3 </td><td>networks neural sensor wireless performance recognition power prediction energy classification       </td><td>embedded and cyber physical systems          </td></tr>\n",
       "<tr><td>4 </td><td>model application development computing generation energy power framework search decision            </td><td>operations research                          </td></tr>\n",
       "<tr><td>5 </td><td>systems control applications power support monitoring performance energy applied decision            </td><td>systems security                             </td></tr>\n",
       "<tr><td>6 </td><td>software mapping development process engineering application assessment literature approaches support</td><td>information theory                           </td></tr>\n",
       "<tr><td>7 </td><td>time applied control multi wireless classification quality architecture patterns prediction          </td><td>very large scale integration design          </td></tr>\n",
       "<tr><td>8 </td><td>evaluation performance computing cloud techniques quality methods power energy development           </td><td>systems security                             </td></tr>\n",
       "<tr><td>9 </td><td>algorithm problems applied search power image estimation approaches computer distribution            </td><td>parallel computing methodologies             </td></tr>\n",
       "<tr><td>10</td><td>learning classification machine support techniques use education prediction programming approaches   </td><td>formal languages and automata theory         </td></tr>\n",
       "<tr><td>11</td><td>network neural classification monitoring problems generation wireless sensor support computing       </td><td>network algorithms                           </td></tr>\n",
       "<tr><td>12</td><td>system information control performance health support identification cloud mapping recognition       </td><td>education                                    </td></tr>\n",
       "<tr><td>13</td><td>detection image use features application methods computer information energy applied                 </td><td>database and storage security                </td></tr>\n",
       "<tr><td>14</td><td>design applications power application research impact framework generation literature patterns       </td><td>computing   technology policy                </td></tr>\n",
       "<tr><td>15</td><td>optimization applied process programming methods problems clustering control multi mapping           </td><td>theory and algorithms for application domains</td></tr>\n",
       "<tr><td>16</td><td>models estimation applied use application programming distribution information mapping quality       </td><td>operations research                          </td></tr>\n",
       "<tr><td>17</td><td>management applications energy cloud research information use performance process assessment         </td><td>document types                               </td></tr>\n",
       "<tr><td>18</td><td>algorithms graphs problems recognition applied image identification machine applications mining      </td><td>continuous mathematics                       </td></tr>\n",
       "<tr><td>19</td><td>modeling performance process framework state simulation development estimation patterns selection    </td><td>enterprise computing                         </td></tr>\n",
       "</tbody>\n",
       "</table>"
      ],
      "text/plain": [
       "<IPython.core.display.HTML object>"
      ]
     },
     "metadata": {},
     "output_type": "display_data"
    }
   ],
   "source": [
    "with open(folder+'tabela_t20.pickle','rb') as f:\n",
    "    table_t20 = pickle.load(f)\n",
    "display(HTML(tabulate(table_t20, tablefmt='html')))"
   ]
  },
  {
   "cell_type": "code",
   "execution_count": null,
   "metadata": {},
   "outputs": [],
   "source": []
  }
 ],
 "metadata": {
  "kernelspec": {
   "display_name": "Python 3",
   "language": "python",
   "name": "python3"
  },
  "language_info": {
   "codemirror_mode": {
    "name": "ipython",
    "version": 3
   },
   "file_extension": ".py",
   "mimetype": "text/x-python",
   "name": "python",
   "nbconvert_exporter": "python",
   "pygments_lexer": "ipython3",
   "version": "3.7.1"
  },
  "toc": {
   "base_numbering": 1,
   "nav_menu": {},
   "number_sections": true,
   "sideBar": true,
   "skip_h1_title": false,
   "title_cell": "Table of Contents",
   "title_sidebar": "Contents",
   "toc_cell": false,
   "toc_position": {},
   "toc_section_display": true,
   "toc_window_display": false
  },
  "varInspector": {
   "cols": {
    "lenName": 16,
    "lenType": 16,
    "lenVar": 40
   },
   "kernels_config": {
    "python": {
     "delete_cmd_postfix": "",
     "delete_cmd_prefix": "del ",
     "library": "var_list.py",
     "varRefreshCmd": "print(var_dic_list())"
    },
    "r": {
     "delete_cmd_postfix": ") ",
     "delete_cmd_prefix": "rm(",
     "library": "var_list.r",
     "varRefreshCmd": "cat(var_dic_list()) "
    }
   },
   "types_to_exclude": [
    "module",
    "function",
    "builtin_function_or_method",
    "instance",
    "_Feature"
   ],
   "window_display": false
  }
 },
 "nbformat": 4,
 "nbformat_minor": 2
}
