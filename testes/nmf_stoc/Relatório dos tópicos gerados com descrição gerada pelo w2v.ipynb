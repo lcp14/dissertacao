{
 "cells": [
  {
   "cell_type": "markdown",
   "metadata": {},
   "source": [
    "# Resultados da descrição automática dos tópicos\n",
    "\n",
    "1) Revisei e aprimorei o pré-processamento dos artigos\n",
    "2) Treinei o w2v utilizando artigos de 2008 até 2018\n",
    "3) "
   ]
  },
  {
   "cell_type": "code",
   "execution_count": 11,
   "metadata": {
    "ExecuteTime": {
     "end_time": "2019-03-28T12:25:10.830546Z",
     "start_time": "2019-03-28T12:25:10.819308Z"
    }
   },
   "outputs": [],
   "source": [
    "import pickle\n",
    "from IPython.display import HTML, display\n",
    "from tabulate import tabulate"
   ]
  },
  {
   "cell_type": "code",
   "execution_count": 37,
   "metadata": {
    "ExecuteTime": {
     "end_time": "2019-03-28T12:43:22.778509Z",
     "start_time": "2019-03-28T12:43:22.757957Z"
    },
    "code_folding": [
     0,
     3,
     7
    ]
   },
   "outputs": [
    {
     "data": {
      "text/html": [
       "<table>\n",
       "<tbody>\n",
       "<tr><td>id</td><td>topic                                                                                              </td><td>first_layer                 </td><td>first_second_layer          </td></tr>\n",
       "<tr><td>0 </td><td>based system image detection models classification optimization control framework applications     </td><td>information systems         </td><td>information systems         </td></tr>\n",
       "<tr><td>1 </td><td>analysis modeling image network process health identification detection energy performance         </td><td>mathematics of computing    </td><td>mathematics of computing    </td></tr>\n",
       "<tr><td>2 </td><td>data classification learning mining management network framework techniques clustering cloud       </td><td>mathematics of computing    </td><td>networks                    </td></tr>\n",
       "<tr><td>3 </td><td>networks neural sensor wireless detection network management performance classification recognition</td><td>applied computing           </td><td>hardware                    </td></tr>\n",
       "<tr><td>4 </td><td>model network learning development application computing generation energy use power               </td><td>mathematics of computing    </td><td>mathematics of computing    </td></tr>\n",
       "<tr><td>5 </td><td>systems control detection management applications performance energy modeling support applied      </td><td>hardware                    </td><td>information systems         </td></tr>\n",
       "<tr><td>6 </td><td>software process development mapping engineering management learning assessment application support</td><td>software and its engineering</td><td>software and its engineering</td></tr>\n",
       "<tr><td>7 </td><td>time detection applied system control classification algorithms multi quality patterns             </td><td>software and its engineering</td><td>software and its engineering</td></tr>\n",
       "<tr><td>8 </td><td>evaluation design performance algorithms models learning system computing cloud power              </td><td>software and its engineering</td><td>general and reference       </td></tr>\n",
       "<tr><td>9 </td><td>algorithm optimization applied problems network search models estimation algorithms image          </td><td>mathematics of computing    </td><td>mathematics of computing    </td></tr>\n",
       "</tbody>\n",
       "</table>"
      ],
      "text/plain": [
       "<IPython.core.display.HTML object>"
      ]
     },
     "metadata": {},
     "output_type": "display_data"
    }
   ],
   "source": [
    "with open('tabela_first_and_second_layer_hierarchy_t10.pickle','rb') as f:\n",
    "    table_second_t10 = pickle.load(f)\n",
    "#display(HTML(tabulate(table_second_t20, tablefmt='html')))\n",
    "with open('tabela_first_layer_hierarchy_t10.pickle','rb') as f:\n",
    "    table_first_t10 = pickle.load(f)\n",
    "#display(HTML(tabulate(table_first_t20, tablefmt='html')))\n",
    "table_t10= [['id','topic','first_layer','first_second_layer']]\n",
    "for idx,tab in enumerate(table_first_t10):\n",
    "    if idx > 0:\n",
    "        id_topic = tab[0]\n",
    "        topic = tab[1]\n",
    "        first = tab[2]\n",
    "        second = table_second_t10[idx][2]\n",
    "        table_t10.append([id_topic,topic,first,second])\n",
    "display(HTML(tabulate(table_t10, tablefmt='html')))"
   ]
  },
  {
   "cell_type": "code",
   "execution_count": 38,
   "metadata": {
    "ExecuteTime": {
     "end_time": "2019-03-28T12:43:26.507326Z",
     "start_time": "2019-03-28T12:43:26.488068Z"
    },
    "code_folding": [
     0,
     3,
     7
    ]
   },
   "outputs": [
    {
     "data": {
      "text/html": [
       "<table>\n",
       "<tbody>\n",
       "<tr><td>id</td><td>topic                                                                                                </td><td>first_layer             </td><td>first_second_layer          </td></tr>\n",
       "<tr><td>0 </td><td>based image models optimization framework control classification applications programming features   </td><td>information systems     </td><td>information systems         </td></tr>\n",
       "<tr><td>1 </td><td>analysis modeling process image health identification energy performance decision simulation         </td><td>computing methodologies </td><td>mathematics of computing    </td></tr>\n",
       "<tr><td>2 </td><td>data mining classification management framework clustering applied cloud techniques energy           </td><td>information systems     </td><td>information systems         </td></tr>\n",
       "<tr><td>3 </td><td>networks neural sensor wireless performance management recognition energy power prediction           </td><td>information systems     </td><td>hardware                    </td></tr>\n",
       "<tr><td>4 </td><td>model application development computing energy generation power framework search decision            </td><td>networks                </td><td>mathematics of computing    </td></tr>\n",
       "<tr><td>5 </td><td>systems control applications performance management modeling energy applied power support            </td><td>information systems     </td><td>information systems         </td></tr>\n",
       "<tr><td>6 </td><td>software process development mapping engineering management assessment application literature support</td><td>human centered computing</td><td>software and its engineering</td></tr>\n",
       "<tr><td>7 </td><td>time applied control multi wireless quality algorithms architecture patterns state                   </td><td>information systems     </td><td>hardware                    </td></tr>\n",
       "<tr><td>8 </td><td>evaluation performance algorithms computing cloud models quality techniques methods development      </td><td>networks                </td><td>general and reference       </td></tr>\n",
       "<tr><td>9 </td><td>algorithm applied optimization problems search estimation image programming algorithms models        </td><td>computing methodologies </td><td>mathematics of computing    </td></tr>\n",
       "<tr><td>10</td><td>learning classification machine algorithms support prediction use techniques education identification</td><td>computing methodologies </td><td>mathematics of computing    </td></tr>\n",
       "<tr><td>11</td><td>network neural management problems optimization generation monitoring wireless sensor classification </td><td>applied computing       </td><td>theory of computation       </td></tr>\n",
       "<tr><td>12</td><td>system information performance control management health support cloud modeling identification       </td><td>information systems     </td><td>software and its engineering</td></tr>\n",
       "<tr><td>13</td><td>detection image use features application methods applied graphs computer information                 </td><td>computing methodologies </td><td>mathematics of computing    </td></tr>\n",
       "<tr><td>14</td><td>design models applications optimization application power algorithms process research estimation     </td><td>human centered computing</td><td>information systems         </td></tr>\n",
       "</tbody>\n",
       "</table>"
      ],
      "text/plain": [
       "<IPython.core.display.HTML object>"
      ]
     },
     "metadata": {},
     "output_type": "display_data"
    }
   ],
   "source": [
    "with open('tabela_first_and_second_layer_hierarchy_t15.pickle','rb') as f:\n",
    "    table_second_t15 = pickle.load(f)\n",
    "#display(HTML(tabulate(table_second_t20, tablefmt='html')))\n",
    "with open('tabela_first_layer_hierarchy_t15.pickle','rb') as f:\n",
    "    table_first_t15 = pickle.load(f)\n",
    "#display(HTML(tabulate(table_first_t20, tablefmt='html')))\n",
    "table_t15= [['id','topic','first_layer','first_second_layer']]\n",
    "for idx,tab in enumerate(table_first_t15):\n",
    "    if idx > 0:\n",
    "        id_topic = tab[0]\n",
    "        topic = tab[1]\n",
    "        first = tab[2]\n",
    "        second = table_second_t15[idx][2]\n",
    "        table_t15.append([id_topic,topic,first,second])\n",
    "display(HTML(tabulate(table_t15, tablefmt='html')))"
   ]
  },
  {
   "cell_type": "code",
   "execution_count": 39,
   "metadata": {
    "ExecuteTime": {
     "end_time": "2019-03-28T12:44:24.374300Z",
     "start_time": "2019-03-28T12:44:24.350539Z"
    },
    "code_folding": [
     3,
     7
    ]
   },
   "outputs": [
    {
     "data": {
      "text/html": [
       "<table>\n",
       "<tbody>\n",
       "<tr><td>id</td><td>topic                                                                                                </td><td>first_layer             </td><td>first_second_layer           </td></tr>\n",
       "<tr><td>0 </td><td>based image control framework applications generation architecture features selection cloud          </td><td>information systems     </td><td>information systems          </td></tr>\n",
       "<tr><td>1 </td><td>analysis health image identification energy process decision computer simulation use                 </td><td>mathematics of computing</td><td>applied computing            </td></tr>\n",
       "<tr><td>2 </td><td>data mining framework clustering techniques monitoring cloud methods applied energy                  </td><td>general and reference   </td><td>theory of computation        </td></tr>\n",
       "<tr><td>3 </td><td>networks neural sensor wireless performance recognition power prediction energy generation           </td><td>mathematics of computing</td><td>computer systems organization</td></tr>\n",
       "<tr><td>4 </td><td>model application development computing generation energy power framework search decision            </td><td>mathematics of computing</td><td>theory of computation        </td></tr>\n",
       "<tr><td>5 </td><td>systems control applications power performance support monitoring energy applied decision            </td><td>information systems     </td><td>information systems          </td></tr>\n",
       "<tr><td>6 </td><td>software mapping development process engineering assessment application literature approaches support</td><td>computing methodologies </td><td>software and its engineering </td></tr>\n",
       "<tr><td>7 </td><td>time applied control multi wireless architecture quality patterns applications prediction            </td><td>information systems     </td><td>information systems          </td></tr>\n",
       "<tr><td>8 </td><td>evaluation performance computing cloud algorithms techniques quality methods power energy            </td><td>networks                </td><td>general and reference        </td></tr>\n",
       "<tr><td>9 </td><td>algorithm problems applied search power estimation approaches computer image distribution            </td><td>mathematics of computing</td><td>mathematics of computing     </td></tr>\n",
       "<tr><td>10</td><td>learning machine support use techniques education algorithms prediction identification architecture  </td><td>computing methodologies </td><td>mathematics of computing     </td></tr>\n",
       "<tr><td>11</td><td>network neural monitoring generation wireless sensor support problems education computing            </td><td>mathematics of computing</td><td>computer systems organization</td></tr>\n",
       "<tr><td>12</td><td>system information control performance health support identification cloud mapping recognition       </td><td>security and privacy    </td><td>information systems          </td></tr>\n",
       "<tr><td>13</td><td>detection image use features application methods computer information energy machine                 </td><td>mathematics of computing</td><td>mathematics of computing     </td></tr>\n",
       "<tr><td>14</td><td>design applications power application research impact framework generation literature patterns       </td><td>human centered computing</td><td>information systems          </td></tr>\n",
       "<tr><td>15</td><td>optimization algorithms applied problems graphs recognition image process programming identification </td><td>computing methodologies </td><td>mathematics of computing     </td></tr>\n",
       "<tr><td>16</td><td>models estimation applied use application programming distribution information mapping quality       </td><td>mathematics of computing</td><td>mathematics of computing     </td></tr>\n",
       "<tr><td>17</td><td>management applications energy cloud research information use process assessment performance         </td><td>human centered computing</td><td>information systems          </td></tr>\n",
       "<tr><td>18</td><td>modeling process performance framework state development simulation estimation patterns selection    </td><td>computing methodologies </td><td>mathematics of computing     </td></tr>\n",
       "<tr><td>19</td><td>classification application assessment features neural problems approaches graphs image quality       </td><td>computing methodologies </td><td>mathematics of computing     </td></tr>\n",
       "</tbody>\n",
       "</table>"
      ],
      "text/plain": [
       "<IPython.core.display.HTML object>"
      ]
     },
     "metadata": {},
     "output_type": "display_data"
    }
   ],
   "source": [
    "with open('tabela_first_and_second_layer_hierarchy_t20.pickle','rb') as f:\n",
    "    table_second_t20 = pickle.load(f)\n",
    "#display(HTML(tabulate(table_second_t20, tablefmt='html')))\n",
    "with open('tabela_first_layer_hierarchy_t20.pickle','rb') as f:\n",
    "    table_first_t20 = pickle.load(f)\n",
    "#display(HTML(tabulate(table_first_t20, tablefmt='html')))\n",
    "table_t20= [['id','topic','first_layer','first_second_layer']]\n",
    "for idx,tab in enumerate(table_first_t20):\n",
    "    if idx > 0:\n",
    "        id_topic = tab[0]\n",
    "        topic = tab[1]\n",
    "        first = tab[2]\n",
    "        second = table_second_t20[idx][2]\n",
    "        table_t20.append([id_topic,topic,first,second])\n",
    "display(HTML(tabulate(table_t20, tablefmt='html')))"
   ]
  },
  {
   "cell_type": "code",
   "execution_count": null,
   "metadata": {},
   "outputs": [],
   "source": []
  }
 ],
 "metadata": {
  "kernelspec": {
   "display_name": "Python 3",
   "language": "python",
   "name": "python3"
  },
  "language_info": {
   "codemirror_mode": {
    "name": "ipython",
    "version": 3
   },
   "file_extension": ".py",
   "mimetype": "text/x-python",
   "name": "python",
   "nbconvert_exporter": "python",
   "pygments_lexer": "ipython3",
   "version": "3.6.7"
  },
  "toc": {
   "base_numbering": 1,
   "nav_menu": {},
   "number_sections": true,
   "sideBar": true,
   "skip_h1_title": false,
   "title_cell": "Table of Contents",
   "title_sidebar": "Contents",
   "toc_cell": false,
   "toc_position": {},
   "toc_section_display": true,
   "toc_window_display": false
  },
  "varInspector": {
   "cols": {
    "lenName": 16,
    "lenType": 16,
    "lenVar": 40
   },
   "kernels_config": {
    "python": {
     "delete_cmd_postfix": "",
     "delete_cmd_prefix": "del ",
     "library": "var_list.py",
     "varRefreshCmd": "print(var_dic_list())"
    },
    "r": {
     "delete_cmd_postfix": ") ",
     "delete_cmd_prefix": "rm(",
     "library": "var_list.r",
     "varRefreshCmd": "cat(var_dic_list()) "
    }
   },
   "types_to_exclude": [
    "module",
    "function",
    "builtin_function_or_method",
    "instance",
    "_Feature"
   ],
   "window_display": false
  }
 },
 "nbformat": 4,
 "nbformat_minor": 2
}
