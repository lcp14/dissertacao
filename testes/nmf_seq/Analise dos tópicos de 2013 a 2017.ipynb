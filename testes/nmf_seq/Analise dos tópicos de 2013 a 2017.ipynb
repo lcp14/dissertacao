{
 "cells": [
  {
   "cell_type": "markdown",
   "metadata": {},
   "source": [
    "# Análise das janelas dos tópicos de 2013 a 2017"
   ]
  },
  {
   "cell_type": "markdown",
   "metadata": {},
   "source": [
    "# Imports"
   ]
  },
  {
   "cell_type": "code",
   "execution_count": 1,
   "metadata": {
    "ExecuteTime": {
     "end_time": "2019-03-19T00:12:38.651649Z",
     "start_time": "2019-03-19T00:12:38.645597Z"
    }
   },
   "outputs": [],
   "source": [
    "import numpy as np"
   ]
  },
  {
   "cell_type": "markdown",
   "metadata": {},
   "source": [
    "# Criar dois dicionarios,  um contendo a matriz esparsa TF-IDF e outra contendo as matriz W e H , resultados do NMF, para cada janela de tempo."
   ]
  },
  {
   "cell_type": "code",
   "execution_count": 21,
   "metadata": {
    "ExecuteTime": {
     "end_time": "2019-03-19T00:55:32.997407Z",
     "start_time": "2019-03-19T00:55:32.971775Z"
    }
   },
   "outputs": [],
   "source": [
    "tfidf = {}\n",
    "tfidf_feature_names = {}\n",
    "nmf = {}\n",
    "\n",
    "for ano in ['2013','2014','2015','2016','2017']:\n",
    "    tfidf_file = 'data/tfidf'+ano+'.npz'\n",
    "    npzfile = np.load(tfidf_file)\n",
    "    tfidf[ano] = npzfile['arr_0']\n",
    "    tfidf_feature_names[ano] = npzfile['arr_1']\n",
    "    nmf_file = 'data/nmf'+ano+'.npz'\n",
    "    npzfile = np.load(nmf_file)\n",
    "    nmf[ano] = (npzfile['arr_0'] , npzfile['arr_1'])\n",
    "outfile = 'data/tfidf.npz'\n",
    "npzfile = np.load(outfile)\n",
    "tfidf['full'] = npzfile['arr_0']\n",
    "tfidf_feature_names['full'] = npzfile['arr_1']\n",
    "nmf_file = 'data/nmf.npz'\n",
    "npzfile = np.load(nmf_file)\n",
    "nmf['full'] = (npzfile['arr_0'], npzfile['arr_1'])"
   ]
  },
  {
   "cell_type": "markdown",
   "metadata": {},
   "source": [
    "# Teste de uma análise das palavras em cada tópico em cada janela de tempo"
   ]
  },
  {
   "cell_type": "code",
   "execution_count": 205,
   "metadata": {
    "ExecuteTime": {
     "end_time": "2019-03-19T03:38:33.722617Z",
     "start_time": "2019-03-19T03:38:33.272999Z"
    }
   },
   "outputs": [],
   "source": [
    "palavras_obj = {}\n",
    "for ano in nmf:\n",
    "    W = nmf[ano][0]\n",
    "    H = nmf[ano][1]\n",
    "    for topic_idx, topic in enumerate(H.transpose()):\n",
    "        top_words = \" \".join([tfidf_feature_names[ano][i]\n",
    "                                 for i in topic.argsort()[:-10 - 1:-1]])\n",
    "        values = [value for value in np.sort(topic)[:-10 - 1:-1]]\n",
    "        for idx,word in enumerate(top_words.split()):\n",
    "            if word not in palavras_obj.keys():\n",
    "                palavras_obj[word] = {}\n",
    "            if 'topics' not in palavras_obj[word].keys():\n",
    "                palavras_obj[word]['topics'] = []\n",
    "            if 'anos' not in palavras_obj[word].keys():\n",
    "                palavras_obj[word]['anos'] = []\n",
    "            if 'ranking' not in palavras_obj[word].keys():\n",
    "                palavras_obj[word]['ranking'] = []\n",
    "            if 'palavras_prox' not in palavras_obj[word].keys():\n",
    "                palavras_obj[word]['palavras_prox'] = []\n",
    "            \n",
    "            ids_new = []\n",
    "            word_idx = np.where(tfidf_feature_names[ano] == word)[0]\n",
    "            ids = tfidf[ano].tolist().todense()[word_idx].argsort().tolist()[0][-3:]\n",
    "            for idx_n in ids:\n",
    "                if tfidf[ano].tolist().todense()[word_idx].tolist()[0][idx_n] != 0:\n",
    "                    ids_new.append(idx_n)\n",
    "            palavras_obj[word]['palavras_prox'].append([tfidf_feature_names[ano][idxl] for idxl in ids_new])\n",
    "            if ano not in palavras_obj[word]['anos']:\n",
    "                palavras_obj[word]['anos'].append(ano)\n",
    "            palavras_obj[word]['ranking'].append(values[idx])\n",
    "            palavras_obj[word]['topics'].append((ano,topic_idx))\n"
   ]
  },
  {
   "cell_type": "code",
   "execution_count": 209,
   "metadata": {
    "ExecuteTime": {
     "end_time": "2019-03-20T05:24:29.764825Z",
     "start_time": "2019-03-20T05:24:29.757101Z"
    }
   },
   "outputs": [
    {
     "data": {
      "text/plain": [
       "dict_keys(['base', 'cluster', 'selection', 'classification', 'graph', 'time', 'detection', 'framework', 'recognition', 'web', 'network', 'sensor', 'wireless', 'management', 'application', 'energy', 'pattern', 'structure', 'architecture', 'dynamic', 'use', 'machine', 'information', 'power', 'control', 'source', 'model', 'decision', 'simulation', 'distribution', 'interaction', 'performance', 'change', 'analysis', 'environment', 'test', 'system', 'development', 'support', 'evaluation', 'algorithm', 'optimization', 'search', 'tree', 'software', 'process', 'line', 'product', 'research', 'business', 'agent', 'image', 'segmentation', 'feature', 'computer', 'scale', 'set', 'design', 'self', 'cloud', 'cell', 'game', 'social', 'service', 'content', 'solution', 'technology', 'generation', 'assessment', 'object', 'multi', 'level', 'project', 'knowledge', 'space', 'quality', 'patient', 'parameter', 'heuristic', 'ontology', 'identification', 'function', 'literature', 'communication', 'health', 'flow', 'context', 'digital', 'activity', 'mobile', 'estimation', 'location', 'distance', 'prediction', 'neural', 'code'])"
      ]
     },
     "execution_count": 209,
     "metadata": {},
     "output_type": "execute_result"
    }
   ],
   "source": [
    "palavras_obj.keys()"
   ]
  },
  {
   "cell_type": "code",
   "execution_count": 210,
   "metadata": {
    "ExecuteTime": {
     "end_time": "2019-03-20T05:35:56.197409Z",
     "start_time": "2019-03-20T05:35:56.187150Z"
    }
   },
   "outputs": [
    {
     "data": {
      "text/plain": [
       "{'topics': [('2013', 0),\n",
       "  ('2013', 6),\n",
       "  ('2014', 4),\n",
       "  ('2015', 6),\n",
       "  ('2016', 3),\n",
       "  ('2016', 4),\n",
       "  ('2016', 6),\n",
       "  ('2017', 0),\n",
       "  ('full', 3),\n",
       "  ('full', 6)],\n",
       " 'anos': ['2013', '2014', '2015', '2016', '2017', 'full'],\n",
       " 'ranking': [0.23345529333041715,\n",
       "  0.09870984446293696,\n",
       "  0.10676586161759334,\n",
       "  0.2617065624612435,\n",
       "  0.08075003665531938,\n",
       "  0.044865357648336095,\n",
       "  0.17505153444554447,\n",
       "  0.10276458512567363,\n",
       "  0.12662191103596443,\n",
       "  0.18454574633785958],\n",
       " 'palavras_prox': [['framework', 'simulation', 'cloud'],\n",
       "  ['framework', 'simulation', 'cloud'],\n",
       "  ['sensor', 'power', 'wireless'],\n",
       "  ['architecture', 'mobile'],\n",
       "  [],\n",
       "  [],\n",
       "  [],\n",
       "  ['system', 'application', 'computer'],\n",
       "  ['base', 'cluster'],\n",
       "  ['base', 'cluster']]}"
      ]
     },
     "execution_count": 210,
     "metadata": {},
     "output_type": "execute_result"
    }
   ],
   "source": [
    "palavras_obj['cluster']"
   ]
  },
  {
   "cell_type": "markdown",
   "metadata": {},
   "source": [
    "** TO DO **\n",
    "- palavras próximas por ano, nao por tópico que ela aparece."
   ]
  },
  {
   "cell_type": "code",
   "execution_count": null,
   "metadata": {},
   "outputs": [],
   "source": []
  }
 ],
 "metadata": {
  "kernelspec": {
   "display_name": "Python 3",
   "language": "python",
   "name": "python3"
  },
  "language_info": {
   "codemirror_mode": {
    "name": "ipython",
    "version": 3
   },
   "file_extension": ".py",
   "mimetype": "text/x-python",
   "name": "python",
   "nbconvert_exporter": "python",
   "pygments_lexer": "ipython3",
   "version": "3.6.7"
  },
  "toc": {
   "base_numbering": 1,
   "nav_menu": {},
   "number_sections": true,
   "sideBar": true,
   "skip_h1_title": false,
   "title_cell": "Table of Contents",
   "title_sidebar": "Contents",
   "toc_cell": false,
   "toc_position": {},
   "toc_section_display": true,
   "toc_window_display": false
  },
  "varInspector": {
   "cols": {
    "lenName": 16,
    "lenType": 16,
    "lenVar": 40
   },
   "kernels_config": {
    "python": {
     "delete_cmd_postfix": "",
     "delete_cmd_prefix": "del ",
     "library": "var_list.py",
     "varRefreshCmd": "print(var_dic_list())"
    },
    "r": {
     "delete_cmd_postfix": ") ",
     "delete_cmd_prefix": "rm(",
     "library": "var_list.r",
     "varRefreshCmd": "cat(var_dic_list()) "
    }
   },
   "types_to_exclude": [
    "module",
    "function",
    "builtin_function_or_method",
    "instance",
    "_Feature"
   ],
   "window_display": false
  }
 },
 "nbformat": 4,
 "nbformat_minor": 2
}
