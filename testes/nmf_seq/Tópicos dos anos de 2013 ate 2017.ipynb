{
 "cells": [
  {
   "cell_type": "code",
   "execution_count": 58,
   "metadata": {
    "ExecuteTime": {
     "end_time": "2019-03-19T00:12:33.448456Z",
     "start_time": "2019-03-19T00:12:33.439345Z"
    }
   },
   "outputs": [],
   "source": [
    "from sklearn.feature_extraction.text import CountVectorizer, TfidfVectorizer\n",
    "from sklearn.decomposition import NMF\n",
    "from SToC import *\n",
    "\n",
    "import numpy as np\n",
    "import os\n",
    "\n",
    "from IPython.display import HTML, display\n",
    "from tabulate import tabulate\n",
    "from metrics import Evaluation as Eval"
   ]
  },
  {
   "cell_type": "code",
   "execution_count": 6,
   "metadata": {
    "ExecuteTime": {
     "end_time": "2019-03-18T22:56:19.148078Z",
     "start_time": "2019-03-18T22:56:19.124833Z"
    },
    "code_folding": [
     0,
     39,
     55
    ]
   },
   "outputs": [],
   "source": [
    "def print_join(iterates, model, W, n_topics, features, n_words):\n",
    "\tmore = []\n",
    "\ttops = []\n",
    "\n",
    "\tmore2 = []\n",
    "\n",
    "\tfor i in range(len(iterates)):\n",
    "\t\ta = iterates[i][1]\n",
    "\t\tb = iterates[i][2]\n",
    "\n",
    "\t\t#mudar\n",
    "\n",
    "\t\tif ((a<n_topics)&(b>=n_topics)):\n",
    "\t\t\taux = (model[a] + more[b-n_topics])/2\n",
    "\t\t\t#aux = more[b-n_topics]\n",
    "\t\t\taux2 = (W[a] + more2[b-n_topics])/2\n",
    "#\n",
    "\t\tif ((a>=n_topics)&(b<n_topics)):\n",
    "\t\t\taux = (more[a-n_topics] + model[b])/2\n",
    "\t\t\t#aux = model[b]\n",
    "\t\t\taux2 = (more2[a-n_topics] + W[b])/2\n",
    "\n",
    "\t\tif ((a>=n_topics)&(b>=n_topics)):\n",
    "\t\t\t#print a\n",
    "\t\t\t#print b\n",
    "\t\t\t#print len(more)\n",
    "\t\t\taux = (more[a-n_topics] + more[b-n_topics])/2\n",
    "\t\t\t#aux = more[b-n_topics]# + more[b-n_topics])/2\n",
    "\t\t\taux2 = (more2[a-n_topics] + more2[b-n_topics])/2\n",
    "\t\t\n",
    "\t\tif ((a < n_topics) & (b < n_topics)):\n",
    "\t\t\taux = (model[a] + model[b])/2\n",
    "\t\t\t#aux = model[b]\n",
    "\t\t\taux2 = (W[a] + W[b])/2\n",
    "\n",
    "\t\t\t\n",
    "\t\t#print aux\n",
    "\t\tmore.append(aux)\n",
    "\t\tmore2.append(aux2)\n",
    "def print_estats(t2):\n",
    "\n",
    "\tvalores = []\n",
    "\tfor (i,j,k,l) in t2:\n",
    "\t\tvalores.append(l)\n",
    "\n",
    "\tex =  pd.Series(valores)\n",
    "\tprint (\"(Max+min)/2: \", (ex.max() + ex.min())/2)\n",
    "\tprint (\"Media: \", ex.mean())\n",
    "\tprint( \"Max: \", ex.max())\n",
    "\tprint (\"Min: \", ex.min())\n",
    "\tprint (\"Variancia: \", ex.var())\n",
    "\tprint (\"Desvio Padrao: \", ex.std())\n",
    "\tprint (\"Desvio Absoluto: \", ex.mad())\n",
    "\treturn ex.mean()\n",
    "\n",
    "def see_join(iterates, W, H, limiar,n_final):\n",
    "\n",
    "    W = W.transpose()\n",
    "    H = H.transpose()\n",
    "\n",
    "    W_dict = {}\n",
    "    H_dict = {}\n",
    "\n",
    "    for i in range(len(W)):\n",
    "        W_dict[i] = W[i]\n",
    "    \n",
    "    for i in range(len(H)):\n",
    "        H_dict[i] = H[i]\n",
    "\n",
    "\t#iterates[i][0] numero do novo topicos\n",
    "\t#iterates[i][1] uniao tópico 1\n",
    "\t#iterates[i][2] uniao topico 2\n",
    "\t#iterates[i][3] valor (limiar)\n",
    "\n",
    " \n",
    "\n",
    "\t#iterates = sorted(iterates, key=lambda x: x[3], reverse=True)\n",
    "\n",
    "\t#print iterates\n",
    "\t#exit()\n",
    "    n_topics = len(W)\n",
    "    aux_final = len(W)\n",
    "    print(aux_final)\n",
    "    for idx,i in enumerate(range(len(iterates))):\n",
    "        new = iterates[i][0]\n",
    "        a = iterates[i][1]\n",
    "        b = iterates[i][2]\n",
    "        valor = iterates[i][3]\n",
    "        \n",
    "        #if valor < limiar:\n",
    "        #\tbreak\n",
    "\n",
    "        if aux_final == n_final:\n",
    "            break\n",
    "\n",
    "        W_dict[new] = (W_dict[a] + W_dict[b])/2\n",
    "        del(W_dict[a])\n",
    "        del(W_dict[b])\n",
    "\n",
    "        H_dict[new] = (H_dict[a] + H_dict[b])/2\n",
    "        del(H_dict[a])\n",
    "        del(H_dict[b])\n",
    "\n",
    "\n",
    "\n",
    "        aux_final -=1\n",
    "\n",
    "    W_new = []\n",
    "\n",
    "    H_new = []\n",
    "\n",
    "        #print (W_dict.keys())\n",
    "        #exit()\n",
    "\n",
    "        #print sorted(W_dict.keys())\n",
    "\n",
    "    for i in sorted(W_dict.keys()):\n",
    "        W_new.append(W_dict[i])\n",
    "\n",
    "    for i in sorted(H_dict.keys()):\n",
    "        H_new.append(H_dict[i])\n",
    "\n",
    "    W_ret = np.zeros((len(W_new),len(W_new[0])))\n",
    "    H_ret = np.zeros((len(H_new),len(H_new[0])))\n",
    "\n",
    "    for i in range(len(W_new)):\n",
    "        for j in range(len(W_new[0])):\n",
    "            W_ret[i][j] = W_new[i][j]\n",
    "\n",
    "    for i in range(len(H_new)):\n",
    "        for j in range(len(H_new[0])):\n",
    "            H_ret[i][j] = H_new[i][j]\n",
    "\n",
    "    return W_ret,H_ret\n"
   ]
  },
  {
   "cell_type": "code",
   "execution_count": 7,
   "metadata": {
    "ExecuteTime": {
     "end_time": "2019-03-18T22:56:19.258991Z",
     "start_time": "2019-03-18T22:56:19.156893Z"
    },
    "code_folding": [
     0
    ]
   },
   "outputs": [],
   "source": [
    "def print_top_words_display(H, feature_names, n_top_words):\n",
    "    table_output = [['Topic','topwords']]\n",
    "    topics = []\n",
    "    for topic_idx, topic in enumerate(H):\n",
    "        top_index = [\"Topic # %d\" % topic_idx]\n",
    "        top_words = [\" \".join([feature_names[i]\n",
    "                             for i in topic.argsort()[:-n_top_words - 1:-1]])]\n",
    "        values = [value for value in np.sort(topic)[:-n_top_words - 1:-1]]\n",
    "        table_output.append(top_index + top_words)\n",
    "        topics.append(\" \".join([feature_names[i]\n",
    "                             for i in topic.argsort()[:-n_top_words - 1:-1]]))\n",
    "        \n",
    "    df_out = pd.DataFrame(table_output, index=None)\n",
    "    display(HTML(tabulate(table_output, tablefmt='html')))\n",
    "    return topics,df_out"
   ]
  },
  {
   "cell_type": "code",
   "execution_count": 8,
   "metadata": {
    "ExecuteTime": {
     "end_time": "2019-03-18T22:56:19.308264Z",
     "start_time": "2019-03-18T22:56:19.267612Z"
    },
    "code_folding": [
     0
    ]
   },
   "outputs": [],
   "source": [
    "def execute_tfidf(dataset,max_df=1,min_df=1,ngram=(0,2),stop_words=[]):\n",
    "    tfidf_vectorizer = TfidfVectorizer(max_df=max_df, min_df=min_df,ngram_range=ngram,stop_words=stop_words)\n",
    "    tfidf = tfidf_vectorizer.fit_transform(dataset)\n",
    "    tfidf_feature_names = tfidf_vectorizer.get_feature_names()\n",
    "    return tfidf,tfidf_feature_names"
   ]
  },
  {
   "cell_type": "code",
   "execution_count": 9,
   "metadata": {
    "ExecuteTime": {
     "end_time": "2019-03-18T22:56:19.358105Z",
     "start_time": "2019-03-18T22:56:19.317424Z"
    },
    "code_folding": [
     0
    ]
   },
   "outputs": [],
   "source": [
    "def execute_nmf(tfidf,n_topics = 10,n_components = 5):\n",
    "    n_topics = n_topics\n",
    "    n_components = n_components\n",
    "    nmf = NMF(n_components=n_components,max_iter=400)\n",
    "    W = nmf.fit_transform(tfidf)\n",
    "    H = nmf.components_.transpose() \n",
    "    return nmf,W,H"
   ]
  },
  {
   "cell_type": "code",
   "execution_count": 10,
   "metadata": {
    "ExecuteTime": {
     "end_time": "2019-03-18T22:56:19.420127Z",
     "start_time": "2019-03-18T22:56:19.366786Z"
    },
    "code_folding": [
     0
    ]
   },
   "outputs": [],
   "source": [
    "def execute_stoc(W,H,n_final,n_components):\n",
    "    n_words = H.shape[0]\n",
    "\n",
    "    topXtop_norm = getIrredutibleMatrix(W,H,n_components)\n",
    "    assign, t2 = joinTopics(n_components, topXtop_norm)\n",
    "\n",
    "\n",
    "    tops = print_join(t2, H.transpose(), W, n_components, None, n_words)\n",
    "\n",
    "    limiar = print_estats(t2)\n",
    "\n",
    "    W_new, H_new = see_join(t2, W, H, limiar,n_final)\n",
    "    return W_new,H_new"
   ]
  },
  {
   "cell_type": "code",
   "execution_count": 11,
   "metadata": {
    "ExecuteTime": {
     "end_time": "2019-03-18T22:56:19.699339Z",
     "start_time": "2019-03-18T22:56:19.428710Z"
    }
   },
   "outputs": [
    {
     "data": {
      "text/plain": [
       "640155"
      ]
     },
     "execution_count": 11,
     "metadata": {},
     "output_type": "execute_result"
    }
   ],
   "source": [
    "timeslice = []\n",
    "corpus = ''\n",
    "for ano in ['2013','2014','2015','2016','2017']:\n",
    "    f = open('../../datasets/artigos/preprocessed/'+ano+'/artigosPre.txt','r')\n",
    "    artigos = f.read()\n",
    "    f.seek(0)\n",
    "    timeslice.append(len(f.readlines()))\n",
    "    corpus += artigos\n",
    "open('new_corpus.txt','w').write(corpus)"
   ]
  },
  {
   "cell_type": "code",
   "execution_count": 12,
   "metadata": {
    "ExecuteTime": {
     "end_time": "2019-03-18T22:56:19.717184Z",
     "start_time": "2019-03-18T22:56:19.706183Z"
    }
   },
   "outputs": [],
   "source": [
    "f = open('../acm_words.txt','r')\n",
    "acm_words = f.read().replace('\\n',' ').split()"
   ]
  },
  {
   "cell_type": "code",
   "execution_count": 56,
   "metadata": {
    "ExecuteTime": {
     "end_time": "2019-03-18T23:56:49.917891Z",
     "start_time": "2019-03-18T23:56:49.163951Z"
    },
    "scrolled": true
   },
   "outputs": [
    {
     "name": "stdout",
     "output_type": "stream",
     "text": [
      "0 2133\n"
     ]
    },
    {
     "data": {
      "text/html": [
       "<table>\n",
       "<tbody>\n",
       "<tr><td>Topic    </td><td>topwords                                                                                              </td></tr>\n",
       "<tr><td>Topic # 0</td><td>base cluster selection classification graph time detection framework recognition web                  </td></tr>\n",
       "<tr><td>Topic # 1</td><td>network sensor wireless management application energy pattern structure architecture dynamic          </td></tr>\n",
       "<tr><td>Topic # 2</td><td>use machine classification web information power energy control source detection                      </td></tr>\n",
       "<tr><td>Topic # 3</td><td>model framework management decision simulation application distribution interaction performance change</td></tr>\n",
       "<tr><td>Topic # 4</td><td>analysis detection environment classification framework test source time recognition control          </td></tr>\n",
       "<tr><td>Topic # 5</td><td>system development control information detection time support management performance evaluation       </td></tr>\n",
       "<tr><td>Topic # 6</td><td>algorithm optimization time search graph tree selection evaluation cluster decision                   </td></tr>\n",
       "<tr><td>Topic # 7</td><td>software process development line product test research business support agent                        </td></tr>\n",
       "<tr><td>Topic # 8</td><td>image classification detection segmentation feature pattern computer recognition scale set            </td></tr>\n",
       "<tr><td>Topic # 9</td><td>design application self framework support distribution architecture control set process               </td></tr>\n",
       "</tbody>\n",
       "</table>"
      ],
      "text/plain": [
       "<IPython.core.display.HTML object>"
      ]
     },
     "metadata": {},
     "output_type": "display_data"
    },
    {
     "name": "stdout",
     "output_type": "stream",
     "text": [
      "2133 4317\n"
     ]
    },
    {
     "data": {
      "text/html": [
       "<table>\n",
       "<tbody>\n",
       "<tr><td>Topic    </td><td>topwords                                                                                        </td></tr>\n",
       "<tr><td>Topic # 0</td><td>model support cloud simulation cell control evaluation game test decision                       </td></tr>\n",
       "<tr><td>Topic # 1</td><td>network sensor wireless control cloud social service distribution content power                 </td></tr>\n",
       "<tr><td>Topic # 2</td><td>use detection sensor search simulation information solution technology generation assessment    </td></tr>\n",
       "<tr><td>Topic # 3</td><td>system time support management information power evaluation decision interaction framework      </td></tr>\n",
       "<tr><td>Topic # 4</td><td>base framework information test detection classification web service cluster generation         </td></tr>\n",
       "<tr><td>Topic # 5</td><td>analysis framework performance social power search web simulation object decision               </td></tr>\n",
       "<tr><td>Topic # 6</td><td>algorithm tree search performance multi selection optimization distribution power level         </td></tr>\n",
       "<tr><td>Topic # 7</td><td>software application process management development project energy environment service knowledge</td></tr>\n",
       "<tr><td>Topic # 8</td><td>image graph classification evaluation space recognition application pattern selection feature   </td></tr>\n",
       "<tr><td>Topic # 9</td><td>design optimization game evaluation test pattern computer architecture energy environment       </td></tr>\n",
       "</tbody>\n",
       "</table>"
      ],
      "text/plain": [
       "<IPython.core.display.HTML object>"
      ]
     },
     "metadata": {},
     "output_type": "display_data"
    },
    {
     "name": "stdout",
     "output_type": "stream",
     "text": [
      "4317 6652\n"
     ]
    },
    {
     "data": {
      "text/html": [
       "<table>\n",
       "<tbody>\n",
       "<tr><td>Topic    </td><td>topwords                                                                                      </td></tr>\n",
       "<tr><td>Topic # 0</td><td>use image classification process evaluation detection decision quality patient parameter      </td></tr>\n",
       "<tr><td>Topic # 1</td><td>model simulation process support design decision time parameter distribution cloud            </td></tr>\n",
       "<tr><td>Topic # 2</td><td>base image classification detection heuristic information ontology machine service search     </td></tr>\n",
       "<tr><td>Topic # 3</td><td>network sensor wireless time distribution control content design dynamic pattern              </td></tr>\n",
       "<tr><td>Topic # 4</td><td>analysis image performance power evaluation game identification time level assessment         </td></tr>\n",
       "<tr><td>Topic # 5</td><td>system design power control service performance evaluation distribution support architecture  </td></tr>\n",
       "<tr><td>Topic # 6</td><td>algorithm design cluster optimization tree multi evaluation parameter image function          </td></tr>\n",
       "<tr><td>Topic # 7</td><td>software development design project support process evaluation research literature ontology   </td></tr>\n",
       "<tr><td>Topic # 8</td><td>application energy time cloud power optimization performance communication design health      </td></tr>\n",
       "<tr><td>Topic # 9</td><td>management process information framework knowledge project support decision environment energy</td></tr>\n",
       "</tbody>\n",
       "</table>"
      ],
      "text/plain": [
       "<IPython.core.display.HTML object>"
      ]
     },
     "metadata": {},
     "output_type": "display_data"
    },
    {
     "name": "stdout",
     "output_type": "stream",
     "text": [
      "6652 9044\n"
     ]
    },
    {
     "data": {
      "text/html": [
       "<table>\n",
       "<tbody>\n",
       "<tr><td>Topic    </td><td>topwords                                                                                           </td></tr>\n",
       "<tr><td>Topic # 0</td><td>model flow simulation environment context evaluation structure feature support multi               </td></tr>\n",
       "<tr><td>Topic # 1</td><td>use image evaluation machine optimization process information classification simulation flow       </td></tr>\n",
       "<tr><td>Topic # 2</td><td>network sensor design dynamic support detection structure performance information control          </td></tr>\n",
       "<tr><td>Topic # 3</td><td>base optimization detection classification image pattern cluster recognition selection knowledge   </td></tr>\n",
       "<tr><td>Topic # 4</td><td>analysis process information simulation function performance cluster pattern digital classification</td></tr>\n",
       "<tr><td>Topic # 5</td><td>system distribution information design control evaluation computer architecture energy health      </td></tr>\n",
       "<tr><td>Topic # 6</td><td>algorithm image optimization cluster tree machine design multi search classification               </td></tr>\n",
       "<tr><td>Topic # 7</td><td>time graph process detection recognition image activity tree sensor classification                 </td></tr>\n",
       "<tr><td>Topic # 8</td><td>software development process line evaluation support service architecture management environment   </td></tr>\n",
       "<tr><td>Topic # 9</td><td>application cloud service design evaluation performance support sensor mobile information          </td></tr>\n",
       "</tbody>\n",
       "</table>"
      ],
      "text/plain": [
       "<IPython.core.display.HTML object>"
      ]
     },
     "metadata": {},
     "output_type": "display_data"
    },
    {
     "name": "stdout",
     "output_type": "stream",
     "text": [
      "9044 11270\n"
     ]
    },
    {
     "data": {
      "text/html": [
       "<table>\n",
       "<tbody>\n",
       "<tr><td>Topic    </td><td>topwords                                                                                                </td></tr>\n",
       "<tr><td>Topic # 0</td><td>base optimization control framework classification agent feature cluster simulation selection           </td></tr>\n",
       "<tr><td>Topic # 1</td><td>analysis process health test decision computer performance research dynamic structure                   </td></tr>\n",
       "<tr><td>Topic # 2</td><td>model estimation test location performance simulation distance energy graph framework                   </td></tr>\n",
       "<tr><td>Topic # 3</td><td>use machine optimization classification generation information prediction estimation recognition feature</td></tr>\n",
       "<tr><td>Topic # 4</td><td>system control support performance information power energy management detection agent                  </td></tr>\n",
       "<tr><td>Topic # 5</td><td>network neural sensor wireless detection service management classification function recognition         </td></tr>\n",
       "<tr><td>Topic # 6</td><td>algorithm optimization tree search location machine heuristic evaluation graph game                     </td></tr>\n",
       "<tr><td>Topic # 7</td><td>time process control distance solution service wireless sensor code change                              </td></tr>\n",
       "<tr><td>Topic # 8</td><td>software design application evaluation process management performance cloud product architecture        </td></tr>\n",
       "<tr><td>Topic # 9</td><td>image detection classification process graph identification feature assessment function quality         </td></tr>\n",
       "</tbody>\n",
       "</table>"
      ],
      "text/plain": [
       "<IPython.core.display.HTML object>"
      ]
     },
     "metadata": {},
     "output_type": "display_data"
    }
   ],
   "source": [
    "fim = timeslice[0]\n",
    "inicio = 0\n",
    "for idx,ano in enumerate(['2013','2014','2015','2016','2017']):\n",
    "    print(inicio,fim)\n",
    "    vectorizer = CountVectorizer()\n",
    "    time_corpus = corpus.split('\\n')[inicio:fim]\n",
    "    X = vectorizer.fit_transform(time_corpus)\n",
    "    sum_words = X.sum(axis=0)\n",
    "    words_freq = [(word, sum_words[0, idx]) for word, idx in vectorizer.vocabulary_.items()]\n",
    "    words_freq =sorted(words_freq, key = lambda x: x[1], reverse=True)\n",
    "    words = [x[0] for x in words_freq]\n",
    "    stop_words_without_acm_words = list(set(words) - set(acm_words))\n",
    "    # TF-IDF\n",
    "    max_df = 0.90\n",
    "    min_df = 0.01\n",
    "    ngram= (1,1)\n",
    "    #NMF\n",
    "    n_components = 10\n",
    "    n_topics = 10\n",
    "    # STOC\n",
    "    #n_final = 30\n",
    "    tfidf,tfidf_feature_names = execute_tfidf(time_corpus,max_df=max_df,min_df=min_df,ngram=ngram,stop_words = stop_words_without_acm_words)\n",
    "    nmf,W,H = execute_nmf(n_components=n_components,n_topics=n_topics,tfidf=tfidf)\n",
    "    topics_nmf,a = print_top_words_display(H.transpose(), tfidf_feature_names,n_topics)\n",
    "    if not os.path.exists('data/'):\n",
    "        os.mkdir('data/')\n",
    "    np.savez('data/tfidf'+ano+'.npz',tfidf,tfidf_feature_names)\n",
    "    np.savez('data/nmf'+ano+'.npz',W,H)\n",
    "    inicio = fim\n",
    "    if idx < len(['2013','2014','2015','2016','2017'])-1:\n",
    "        fim = inicio + timeslice[idx+1]\n",
    "    else:\n",
    "        fim = inicio + timeslice[idx]\n"
   ]
  },
  {
   "cell_type": "code",
   "execution_count": 57,
   "metadata": {
    "ExecuteTime": {
     "end_time": "2019-03-19T00:04:45.878741Z",
     "start_time": "2019-03-19T00:04:45.333686Z"
    }
   },
   "outputs": [
    {
     "data": {
      "text/html": [
       "<table>\n",
       "<tbody>\n",
       "<tr><td>Topic    </td><td>topwords                                                                                                   </td></tr>\n",
       "<tr><td>Topic # 0</td><td>use machine classification information optimization evaluation detection prediction change simulation      </td></tr>\n",
       "<tr><td>Topic # 1</td><td>model simulation support time process evaluation cloud decision distribution environment                   </td></tr>\n",
       "<tr><td>Topic # 2</td><td>network sensor wireless management time detection design energy control distribution                       </td></tr>\n",
       "<tr><td>Topic # 3</td><td>base classification detection cluster framework optimization selection web feature recognition             </td></tr>\n",
       "<tr><td>Topic # 4</td><td>analysis performance framework classification environment simulation identification health pattern decision</td></tr>\n",
       "<tr><td>Topic # 5</td><td>system time control management information support power evaluation distribution performance               </td></tr>\n",
       "<tr><td>Topic # 6</td><td>algorithm optimization tree cluster search multi design time machine evaluation                            </td></tr>\n",
       "<tr><td>Topic # 7</td><td>software process development management line project support test service architecture                     </td></tr>\n",
       "<tr><td>Topic # 8</td><td>image classification graph detection process time feature identification recognition pattern               </td></tr>\n",
       "<tr><td>Topic # 9</td><td>application design optimization cloud evaluation energy performance graph service environment              </td></tr>\n",
       "</tbody>\n",
       "</table>"
      ],
      "text/plain": [
       "<IPython.core.display.HTML object>"
      ]
     },
     "metadata": {},
     "output_type": "display_data"
    }
   ],
   "source": [
    "vectorizer = CountVectorizer()\n",
    "full_corpus = corpus.split('\\n')\n",
    "X = vectorizer.fit_transform(full_corpus)\n",
    "sum_words = X.sum(axis=0)\n",
    "words_freq = [(word, sum_words[0, idx]) for word, idx in vectorizer.vocabulary_.items()]\n",
    "words_freq =sorted(words_freq, key = lambda x: x[1], reverse=True)\n",
    "words = [x[0] for x in words_freq]\n",
    "stop_words_without_acm_words = list(set(words) - set(acm_words))\n",
    "# TF-IDF\n",
    "max_df = 0.90\n",
    "min_df = 0.01\n",
    "ngram= (1,1)\n",
    "#NMF\n",
    "n_components = 10\n",
    "n_topics = 10\n",
    "# STOC\n",
    "#n_final = 30\n",
    "tfidf,tfidf_feature_names = execute_tfidf(full_corpus,max_df=max_df,min_df=min_df,ngram=ngram,stop_words = stop_words_without_acm_words)\n",
    "nmf,W,H = execute_nmf(n_components=n_components,n_topics=n_topics,tfidf=tfidf)\n",
    "topics_nmf,a = print_top_words_display(H.transpose(), tfidf_feature_names,n_topics)\n",
    "if not os.path.exists('data/'):\n",
    "    os.mkdir('data/')\n",
    "np.savez('data/tfidf.npz',tfidf,tfidf_feature_names)\n",
    "np.savez('data/nmf.npz',W,H)"
   ]
  },
  {
   "cell_type": "code",
   "execution_count": null,
   "metadata": {},
   "outputs": [],
   "source": []
  }
 ],
 "metadata": {
  "kernelspec": {
   "display_name": "Python 3",
   "language": "python",
   "name": "python3"
  },
  "language_info": {
   "codemirror_mode": {
    "name": "ipython",
    "version": 3
   },
   "file_extension": ".py",
   "mimetype": "text/x-python",
   "name": "python",
   "nbconvert_exporter": "python",
   "pygments_lexer": "ipython3",
   "version": "3.6.7"
  },
  "toc": {
   "base_numbering": 1,
   "nav_menu": {},
   "number_sections": true,
   "sideBar": true,
   "skip_h1_title": false,
   "title_cell": "Table of Contents",
   "title_sidebar": "Contents",
   "toc_cell": false,
   "toc_position": {},
   "toc_section_display": true,
   "toc_window_display": false
  },
  "varInspector": {
   "cols": {
    "lenName": 16,
    "lenType": 16,
    "lenVar": 40
   },
   "kernels_config": {
    "python": {
     "delete_cmd_postfix": "",
     "delete_cmd_prefix": "del ",
     "library": "var_list.py",
     "varRefreshCmd": "print(var_dic_list())"
    },
    "r": {
     "delete_cmd_postfix": ") ",
     "delete_cmd_prefix": "rm(",
     "library": "var_list.r",
     "varRefreshCmd": "cat(var_dic_list()) "
    }
   },
   "types_to_exclude": [
    "module",
    "function",
    "builtin_function_or_method",
    "instance",
    "_Feature"
   ],
   "window_display": false
  }
 },
 "nbformat": 4,
 "nbformat_minor": 2
}
